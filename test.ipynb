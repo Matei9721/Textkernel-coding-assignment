{
 "cells": [
  {
   "cell_type": "code",
   "execution_count": 1,
   "metadata": {
    "collapsed": true,
    "ExecuteTime": {
     "end_time": "2023-11-18T18:22:20.538000900Z",
     "start_time": "2023-11-18T18:22:19.872749400Z"
    }
   },
   "outputs": [],
   "source": [
    "from country_matcher.country_matcher import CountryMatcher"
   ]
  },
  {
   "cell_type": "code",
   "execution_count": 2,
   "outputs": [],
   "source": [
    "countryMatcher = CountryMatcher(\"dataset/city_to_country_mapping.json\", \"dataset/country_to_code_mapping.json\")"
   ],
   "metadata": {
    "collapsed": false,
    "ExecuteTime": {
     "end_time": "2023-11-18T18:22:21.201105100Z",
     "start_time": "2023-11-18T18:22:21.137535Z"
    }
   }
  },
  {
   "cell_type": "code",
   "execution_count": 3,
   "outputs": [
    {
     "data": {
      "text/plain": "-1924571039420048526"
     },
     "execution_count": 3,
     "metadata": {},
     "output_type": "execute_result"
    }
   ],
   "source": [
    "countryMatcher.find_country(\"stationsstraat 11 9690, kluisbergen, , Belgium\")"
   ],
   "metadata": {
    "collapsed": false,
    "ExecuteTime": {
     "end_time": "2023-11-18T18:22:21.752990400Z",
     "start_time": "2023-11-18T18:22:21.734937400Z"
    }
   }
  },
  {
   "cell_type": "code",
   "execution_count": 4,
   "outputs": [
    {
     "name": "stdout",
     "output_type": "stream",
     "text": [
      "[-1924571039420048526, -639896192934281546, -639896192934281546]\n"
     ]
    }
   ],
   "source": [
    "print(countryMatcher.find_country([\"stationsstraat 11 9690, kluisbergen\", \"rue du vieux logis chavagnes-les-redoux\", \"Rue De Beaurivage Bois-De-Céné\"]))"
   ],
   "metadata": {
    "collapsed": false,
    "ExecuteTime": {
     "end_time": "2023-11-18T18:22:23.194843700Z",
     "start_time": "2023-11-18T18:22:22.974833700Z"
    }
   }
  },
  {
   "cell_type": "code",
   "execution_count": 5,
   "outputs": [
    {
     "data": {
      "text/plain": "-1924571039420048526"
     },
     "execution_count": 5,
     "metadata": {},
     "output_type": "execute_result"
    }
   ],
   "source": [
    "countryMatcher.find_country(\"stationsstraat 11 9690, kluisbesrgen\", confidence_threshold=50)"
   ],
   "metadata": {
    "collapsed": false,
    "ExecuteTime": {
     "end_time": "2023-11-18T18:22:25.310449700Z",
     "start_time": "2023-11-18T18:22:25.167621100Z"
    }
   }
  },
  {
   "cell_type": "code",
   "execution_count": null,
   "outputs": [],
   "source": [],
   "metadata": {
    "collapsed": false
   }
  }
 ],
 "metadata": {
  "kernelspec": {
   "display_name": "Python 3",
   "language": "python",
   "name": "python3"
  },
  "language_info": {
   "codemirror_mode": {
    "name": "ipython",
    "version": 2
   },
   "file_extension": ".py",
   "mimetype": "text/x-python",
   "name": "python",
   "nbconvert_exporter": "python",
   "pygments_lexer": "ipython2",
   "version": "2.7.6"
  }
 },
 "nbformat": 4,
 "nbformat_minor": 0
}
