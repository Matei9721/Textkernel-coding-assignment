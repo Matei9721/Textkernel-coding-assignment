{
 "cells": [
  {
   "cell_type": "code",
   "execution_count": 1,
   "metadata": {
    "collapsed": true,
    "ExecuteTime": {
     "end_time": "2023-11-18T18:45:54.360985700Z",
     "start_time": "2023-11-18T18:45:54.281026500Z"
    }
   },
   "outputs": [],
   "source": [
    "from country_matcher.country_matcher import CountryMatcher"
   ]
  },
  {
   "cell_type": "code",
   "execution_count": 2,
   "outputs": [],
   "source": [
    "countryMatcher = CountryMatcher(\"dataset/city_to_country_mapping.json\", \"dataset/country_to_code_mapping.json\")"
   ],
   "metadata": {
    "collapsed": false,
    "ExecuteTime": {
     "end_time": "2023-11-18T18:45:56.597430500Z",
     "start_time": "2023-11-18T18:45:56.537422800Z"
    }
   }
  },
  {
   "cell_type": "code",
   "execution_count": 3,
   "outputs": [
    {
     "data": {
      "text/plain": "'d5a79707c0bb522e0de814a42fc80baa78e3bec1267720418c8c4c019d53a1fa'"
     },
     "execution_count": 3,
     "metadata": {},
     "output_type": "execute_result"
    }
   ],
   "source": [
    "countryMatcher.find_country_hash(\"stationsstraat 11 9690, kluisbergen, , Belgium\")"
   ],
   "metadata": {
    "collapsed": false,
    "ExecuteTime": {
     "end_time": "2023-11-18T18:45:57.658496900Z",
     "start_time": "2023-11-18T18:45:57.630482400Z"
    }
   }
  },
  {
   "cell_type": "code",
   "execution_count": 4,
   "outputs": [
    {
     "name": "stdout",
     "output_type": "stream",
     "text": [
      "['d5a79707c0bb522e0de814a42fc80baa78e3bec1267720418c8c4c019d53a1fa', '501c26b2571a1f7fd72df8c21593874fc874c97145717470596895d1c22203f7', '501c26b2571a1f7fd72df8c21593874fc874c97145717470596895d1c22203f7']\n"
     ]
    }
   ],
   "source": [
    "print(countryMatcher.find_country_hash([\"stationsstraat 11 9690, kluisbergen\", \"rue du vieux logis chavagnes-les-redoux\", \"Rue De Beaurivage Bois-De-Céné\"]))"
   ],
   "metadata": {
    "collapsed": false,
    "ExecuteTime": {
     "end_time": "2023-11-18T18:45:58.689443400Z",
     "start_time": "2023-11-18T18:45:58.464446300Z"
    }
   }
  },
  {
   "cell_type": "code",
   "execution_count": 5,
   "outputs": [
    {
     "data": {
      "text/plain": "'cd8d844d2c3dedc1f6d5c56924a9f743bba1fc43278772da035935446c2db0f5'"
     },
     "execution_count": 5,
     "metadata": {},
     "output_type": "execute_result"
    }
   ],
   "source": [
    "countryMatcher.find_country_hash(\"stationsstraat 11 9690, kluisbesrgen\", confidence_threshold=100)"
   ],
   "metadata": {
    "collapsed": false,
    "ExecuteTime": {
     "end_time": "2023-11-18T18:45:59.924597800Z",
     "start_time": "2023-11-18T18:45:59.774600Z"
    }
   }
  },
  {
   "cell_type": "code",
   "execution_count": 6,
   "outputs": [
    {
     "data": {
      "text/plain": "'cd8d844d2c3dedc1f6d5c56924a9f743bba1fc43278772da035935446c2db0f5'"
     },
     "execution_count": 6,
     "metadata": {},
     "output_type": "execute_result"
    }
   ],
   "source": [
    "import hashlib\n",
    "hashlib.sha256(\"No match\".encode('utf-8')).hexdigest()"
   ],
   "metadata": {
    "collapsed": false,
    "ExecuteTime": {
     "end_time": "2023-11-18T18:46:00.736918400Z",
     "start_time": "2023-11-18T18:46:00.724137900Z"
    }
   }
  }
 ],
 "metadata": {
  "kernelspec": {
   "display_name": "Python 3",
   "language": "python",
   "name": "python3"
  },
  "language_info": {
   "codemirror_mode": {
    "name": "ipython",
    "version": 2
   },
   "file_extension": ".py",
   "mimetype": "text/x-python",
   "name": "python",
   "nbconvert_exporter": "python",
   "pygments_lexer": "ipython2",
   "version": "2.7.6"
  }
 },
 "nbformat": 4,
 "nbformat_minor": 0
}
