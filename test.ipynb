{
 "cells": [
  {
   "cell_type": "code",
   "execution_count": 1,
   "metadata": {
    "collapsed": true,
    "ExecuteTime": {
     "end_time": "2023-11-18T19:51:27.482477500Z",
     "start_time": "2023-11-18T19:51:27.407326700Z"
    }
   },
   "outputs": [],
   "source": [
    "from country_matcher.country_matcher import CountryMatcher"
   ]
  },
  {
   "cell_type": "code",
   "execution_count": 2,
   "outputs": [],
   "source": [
    "countryMatcher = CountryMatcher(\"dataset/city_to_country_mapping.json\", \"dataset/country_to_code_mapping.json\")"
   ],
   "metadata": {
    "collapsed": false,
    "ExecuteTime": {
     "end_time": "2023-11-18T19:51:28.394195700Z",
     "start_time": "2023-11-18T19:51:28.339895300Z"
    }
   }
  },
  {
   "cell_type": "code",
   "execution_count": 3,
   "outputs": [
    {
     "data": {
      "text/plain": "'d5a79707c0bb522e0de814a42fc80baa78e3bec1267720418c8c4c019d53a1fa'"
     },
     "execution_count": 3,
     "metadata": {},
     "output_type": "execute_result"
    }
   ],
   "source": [
    "countryMatcher.find_country_hash(\"stationsstraat 11 9690, kluisbergen, , Belgium\")"
   ],
   "metadata": {
    "collapsed": false,
    "ExecuteTime": {
     "end_time": "2023-11-18T19:51:28.988322900Z",
     "start_time": "2023-11-18T19:51:28.972322900Z"
    }
   }
  },
  {
   "cell_type": "code",
   "execution_count": 4,
   "outputs": [
    {
     "name": "stdout",
     "output_type": "stream",
     "text": [
      "['BE', 'FR', 'FR']\n"
     ]
    }
   ],
   "source": [
    "print(countryMatcher.find_country_hash([\"stationsstraat 11 9690, kluisbergen\", \"rue du vieux logis chavagnes-les-redoux\", \"Rue De Beaurivage Bois-De-Céné\"]))"
   ],
   "metadata": {
    "collapsed": false,
    "ExecuteTime": {
     "end_time": "2023-11-18T19:28:48.247566500Z",
     "start_time": "2023-11-18T19:28:48.190609500Z"
    }
   }
  },
  {
   "cell_type": "code",
   "execution_count": 5,
   "outputs": [
    {
     "data": {
      "text/plain": "'cd8d844d2c3dedc1f6d5c56924a9f743bba1fc43278772da035935446c2db0f5'"
     },
     "execution_count": 5,
     "metadata": {},
     "output_type": "execute_result"
    }
   ],
   "source": [
    "countryMatcher.find_country_hash(\"stationsstraat 11 9690, kluisbesrgen\", confidence_threshold=100)"
   ],
   "metadata": {
    "collapsed": false,
    "ExecuteTime": {
     "end_time": "2023-11-18T18:45:59.924597800Z",
     "start_time": "2023-11-18T18:45:59.774600Z"
    }
   }
  },
  {
   "cell_type": "code",
   "execution_count": 10,
   "outputs": [
    {
     "data": {
      "text/plain": "'cd8d844d2c3dedc1f6d5c56924a9f743bba1fc43278772da035935446c2db0f5'"
     },
     "execution_count": 10,
     "metadata": {},
     "output_type": "execute_result"
    }
   ],
   "source": [
    "import hashlib\n",
    "hashlib.sha256(\"No match\".encode('utf-8')).hexdigest()"
   ],
   "metadata": {
    "collapsed": false,
    "ExecuteTime": {
     "end_time": "2023-11-18T19:52:08.116302400Z",
     "start_time": "2023-11-18T19:52:08.077514300Z"
    }
   }
  },
  {
   "cell_type": "code",
   "execution_count": 5,
   "outputs": [],
   "source": [
    "import json\n",
    "def read_addresses_file(file_path):\n",
    "    with open(file_path, 'r', encoding=\"utf-8\") as file:\n",
    "        addresses = []\n",
    "        for line in file:\n",
    "            # Load each line as a JSON object\n",
    "            json_data = json.loads(line)\n",
    "            address_to_country_dict = json_data[\"address\"], json_data[\"country\"]\n",
    "            addresses.append(address_to_country_dict)\n",
    "\n",
    "    return addresses"
   ],
   "metadata": {
    "collapsed": false,
    "ExecuteTime": {
     "end_time": "2023-11-18T19:51:35.861609200Z",
     "start_time": "2023-11-18T19:51:35.846609Z"
    }
   }
  },
  {
   "cell_type": "code",
   "execution_count": 6,
   "outputs": [],
   "source": [
    "test_addresses = read_addresses_file(\"tests/data/addresses.jsonl\")"
   ],
   "metadata": {
    "collapsed": false,
    "ExecuteTime": {
     "end_time": "2023-11-18T19:51:38.812229200Z",
     "start_time": "2023-11-18T19:51:36.182727900Z"
    }
   }
  },
  {
   "cell_type": "code",
   "execution_count": 7,
   "outputs": [],
   "source": [
    "test_addresses_address = [address[0] for address in test_addresses]\n",
    "test_addresses_output = [address[1] for address in test_addresses]"
   ],
   "metadata": {
    "collapsed": false,
    "ExecuteTime": {
     "end_time": "2023-11-18T19:51:38.907418500Z",
     "start_time": "2023-11-18T19:51:38.814177800Z"
    }
   }
  },
  {
   "cell_type": "code",
   "execution_count": 11,
   "outputs": [],
   "source": [
    "count = 0\n",
    "for address, expected_output in zip(test_addresses_address[:10], test_addresses_output[:10]):\n",
    "    output = countryMatcher.find_country_hash(address)\n",
    "\n",
    "    if output != hashlib.sha256(expected_output.encode('utf-8')).hexdigest():\n",
    "        count +=1\n",
    "        print(address)\n",
    "        print(expected_output)\n",
    "        print(output)\n"
   ],
   "metadata": {
    "collapsed": false,
    "ExecuteTime": {
     "end_time": "2023-11-18T19:52:09.731685200Z",
     "start_time": "2023-11-18T19:52:09.689076300Z"
    }
   }
  },
  {
   "cell_type": "code",
   "execution_count": 17,
   "outputs": [
    {
     "data": {
      "text/plain": "60"
     },
     "execution_count": 17,
     "metadata": {},
     "output_type": "execute_result"
    }
   ],
   "source": [
    "count"
   ],
   "metadata": {
    "collapsed": false,
    "ExecuteTime": {
     "end_time": "2023-11-18T19:45:25.606170400Z",
     "start_time": "2023-11-18T19:45:25.590170200Z"
    }
   }
  },
  {
   "cell_type": "code",
   "execution_count": 13,
   "outputs": [
    {
     "data": {
      "text/plain": "[('Mitterweg Angath', 'AT'),\n ('josef-franz-huter-straße 72 6020, innsbruck, austria', 'AT'),\n ('FLIRSCHBERG FLIRSCH, ÖSTERREICH', 'AT'),\n ('Lochbödele Landeck Austria', 'AT'),\n ('Ainet 75 9951, Ainet', 'AT'),\n ('klammer mühle 1 obsteig austria', 'AT'),\n ('gurnau - grins', 'AT'),\n ('6130, Schwaz', 'AT'),\n ('ALPBACH ALPBACH', 'AT'),\n ('Mariastein - Mariastein', 'AT'),\n ('FULPMES', 'AT'),\n ('WILDERMIEMING, AUSTRIA', 'AT'),\n ('OBERLETZEN 29 6600, PFLACH', 'AT'),\n ('SEE, MIEMING', 'AT'),\n ('pirchmoos - söll', 'AT'),\n ('tschaffinis-umgebung 4 6166, fulpmes', 'AT'),\n ('DR.-DORREK-STRASSE, SCHWAZ', 'AT'),\n ('leithener dorfstraße, reith bei seefeld', 'AT'),\n ('kogl 3 ampass austria', 'AT'),\n ('FORCHACHSTRASSE 7 6166, FULPMES, AUSTRIA', 'AT'),\n ('PFAFFENSCHWENDT, FIEBERBRUNN', 'AT'),\n ('völs', 'AT'),\n ('MIEMING', 'AT'),\n ('FIEBERBRUNN', 'AT'),\n ('badergasse 260a nassereith', 'AT'),\n ('unterweidach, mieming', 'AT'),\n ('STEINBERG AM ROFAN', 'AT'),\n ('OBERE DORFSTRASSE 9 FISS', 'AT'),\n ('6364, brixen im thale', 'AT'),\n ('st. jakob in defereggen', 'AT'),\n ('Brixen Im Thale Österreich', 'AT'),\n ('St. Ulrich Am Pillersee', 'AT'),\n ('Moosweg - Tristach', 'AT'),\n ('Lehner-Au 155B Längenfeld', 'AT'),\n ('6433 OETZ', 'AT'),\n ('Kirchweg St. Ulrich Am Pillersee Austria', 'AT'),\n ('TRISTACH', 'AT'),\n ('Wittberg - Kramsach', 'AT'),\n ('Innsbrucker Straße, Völs', 'AT'),\n ('Oetz', 'AT'),\n ('6444 längenfeld austria', 'AT'),\n ('MILS-AU - MILS BEI IMST', 'AT'),\n ('Urtlweg, Landeck', 'AT'),\n ('nußdorf-debant österreich', 'AT'),\n ('Terfnerweg Fritzens', 'AT'),\n ('Fügen', 'AT'),\n ('ROHRACH, SCHMIRN', 'AT'),\n ('KLEINBODENERSTRASSE 34 6263, FÜGEN', 'AT'),\n ('BADL 15 6233, KRAMSACH', 'AT'),\n ('grießau 27 6651, häselgehr', 'AT'),\n ('toni egger-straße 15 9990, nußdorf-debant', 'AT'),\n ('hochstadelweg, nußdorf-debant', 'AT'),\n ('GRAF LEONHARD-STRASSE NUSSDORF-DEBANT', 'AT'),\n ('NAUDERS 453 6543, NAUDERS, ÖSTERREICH', 'AT'),\n ('Nassereith', 'AT'),\n ('dörferstraße, rum', 'AT'),\n ('REITH BEI KITZBÜHEL', 'AT'),\n ('MITTERGASSE, TARRENZ', 'AT'),\n ('Eichenweg - Absam', 'AT'),\n ('marienbergstraße - fügen', 'AT'),\n ('KALS AM GROSSGLOCKNER', 'AT'),\n ('6370 Reith Bei Kitzbühel Austria', 'AT'),\n ('WALD ELLMAU', 'AT'),\n ('ZIRLERBERG, ZIRL', 'AT'),\n ('Göriachweg - Virgen', 'AT'),\n ('6336 langkampfen', 'AT'),\n ('6170 Zirl', 'AT'),\n ('außervillgraten austria', 'AT'),\n ('moosweg - vils', 'AT'),\n ('Innsbruckerstraße, Going Am Wilden Kaiser', 'AT'),\n ('KIRCHBICHL ÖSTERREICH', 'AT'),\n ('zintberg 36a 6130, schwaz', 'AT'),\n ('KERSCHLEITL 11 BRIXEN IM THALE', 'AT'),\n ('Gries, Längenfeld', 'AT'),\n ('Sillian 219 9920, Sillian', 'AT'),\n ('Schwaz Österreich', 'AT'),\n ('6342 niederndorf, austria', 'AT'),\n ('unterer grund kirchberg in tirol, österreich', 'AT'),\n ('KAPONSWEG 3C THAUR', 'AT'),\n ('going am wilden kaiser', 'AT'),\n ('kaponsweg thaur', 'AT'),\n ('Iselsberg Iselsberg-Stronach', 'AT'),\n ('6230 BRIXLEGG, ÖSTERREICH', 'AT'),\n ('am kanal, vils', 'AT'),\n ('Thaur', 'AT'),\n ('Sportplatzstraße Mayrhofen', 'AT'),\n ('reith bei kitzbühel, austria', 'AT'),\n ('graf-fieger-weg fügen austria', 'AT'),\n ('Schlitters Schlitters', 'AT'),\n ('aschauer straße 39 kirchberg in tirol', 'AT'),\n ('6365 kirchberg in tirol, austria', 'AT'),\n ('Höfle, Imsterberg', 'AT'),\n ('6401, Inzing', 'AT'),\n ('6353 GOING AM WILDEN KAISER ÖSTERREICH', 'AT'),\n ('Brixen Im Thale, Österreich', 'AT'),\n ('entgasse münster', 'AT'),\n ('RIED I.O. 32 6531, RIED IM OBERINNTAL, AUSTRIA', 'AT'),\n ('6531 RIED IM OBERINNTAL, AUSTRIA', 'AT'),\n ('Egerbach 72 Schwoich', 'AT'),\n ('oberndorf in tirol, austria', 'AT'),\n ('STRONACH 6A ISELSBERG-STRONACH', 'AT'),\n ('brügglbach kirchberg in tirol', 'AT'),\n ('6511 zams, österreich', 'AT'),\n ('gunglgrün 68 6460, imst', 'AT'),\n ('6020 INNSBRUCK', 'AT'),\n ('MALERNWEG KITZBÜHEL, ÖSTERREICH', 'AT'),\n ('HAIMING, ÖSTERREICH', 'AT'),\n ('roßaugasse innsbruck austria', 'AT'),\n ('höhenstraße telfs österreich', 'AT'),\n ('Mittewald - Anras', 'AT'),\n ('6068, MILS', 'AT'),\n ('Mühlgasse 40 6265, Hart Im Zillertal', 'AT'),\n ('FERDINANDWEG 9 6068, MILS, AUSTRIA', 'AT'),\n ('kitzbühel', 'AT'),\n ('6068 MILS', 'AT'),\n ('waldstraße 15 6322, kirchbichl', 'AT'),\n ('Schmiedgasse Hart Im Zillertal', 'AT'),\n ('PUITBACH 218A LEUTASCH', 'AT'),\n ('Hopfgarten Im Brixental', 'AT'),\n ('Am Gießen 6 Innsbruck Österreich', 'AT'),\n ('schwendt', 'AT'),\n ('hopfgarten im brixental', 'AT'),\n ('Weingartnerstraße, Innsbruck', 'AT'),\n ('ram flaurling', 'AT'),\n ('Sellrain', 'AT'),\n ('hall in tirol, österreich', 'AT'),\n ('thomas-walch-straße, imst', 'AT'),\n ('CHRISTIAN PLATTNER-STRASSE WÖRGL', 'AT'),\n ('Seite 53 Grinzens', 'AT'),\n ('6370 Kitzbühel, Austria', 'AT'),\n ('EBBS', 'AT'),\n ('wildbichler straße ebbs, austria', 'AT'),\n ('UNTERWEIDACH, EBBS', 'AT'),\n ('außerrain, neustift im stubaital', 'AT'),\n ('matrei in osttirol', 'AT'),\n ('RAMSAU BREITENBACH AM INN ÖSTERREICH', 'AT'),\n ('SÖLDEN', 'AT'),\n ('KARL SCHÖNHERR-STRASSE WÖRGL', 'AT'),\n ('THIERSEESTRASSE KUFSTEIN', 'AT'),\n ('Westendorf Austria', 'AT'),\n ('KITZBÜHEL', 'AT'),\n ('GEORGENWEG 2A TELFS', 'AT'),\n ('Brandenberg Brandenberg', 'AT'),\n ('DORF - ELBIGENALP', 'AT'),\n ('Ebele - Häselgehr', 'AT'),\n ('carl-schuler-weg 7 st. anton am arlberg austria', 'AT'),\n ('unterweg navis, österreich', 'AT'),\n ('Außerweg - Navis', 'AT'),\n ('6330 KUFSTEIN AUSTRIA', 'AT'),\n ('Kaiserbergstraße 33C Kufstein Österreich', 'AT'),\n ('Volders', 'AT'),\n ('6020 Innsbruck', 'AT'),\n ('DORFSTRASSE ARZL IM PITZTAL, AUSTRIA', 'AT'),\n ('ABSAM', 'AT'),\n ('Weingartl 21 Natters Österreich', 'AT'),\n ('quadratsch pians', 'AT'),\n ('LEISACH', 'AT'),\n ('Aldrans, Österreich', 'AT'),\n ('Prantlstraße 63 St. Johann In Tirol', 'AT'),\n ('Zellberg 305 6277, Zellberg', 'AT'),\n ('OBERHOFENWEG ST. JOHANN IN TIROL, AUSTRIA', 'AT'),\n ('6277 zellberg', 'AT'),\n ('OSTERSTEINSTRASSE, ARZL IM PITZTAL', 'AT'),\n ('Oberweg 152 6145, Navis', 'AT'),\n ('LUMMA - TELFS', 'AT'),\n ('SISTRANS', 'AT'),\n ('PFUNDS, ÖSTERREICH', 'AT'),\n ('ASCHER HÜTTE 110 KAPPL AUSTRIA', 'AT'),\n ('PATER BARTL-STRASSE 5 6600, REUTTE', 'AT'),\n ('Adolf Purtscher-Straße 10 Lienz', 'AT'),\n ('6212 Eben Am Achensee', 'AT'),\n ('Gnadenwald', 'AT'),\n ('Praschberg 17A 6346, Niederndorferberg', 'AT'),\n ('asch - anras', 'AT'),\n ('Ebbs', 'AT'),\n ('UNTERGSTEIG 20 6600, REUTTE', 'AT'),\n ('axams, österreich', 'AT'),\n ('RAUTHWEG 13 KEMATEN IN TIROL', 'AT'),\n ('Schwendaustraße 182 Mayrhofen', 'AT'),\n ('rattenberg österreich', 'AT'),\n ('bienerstraße rattenberg', 'AT'),\n ('Auweg Kolsass Österreich', 'AT'),\n ('leukentalweg, kirchdorf in tirol', 'AT'),\n ('EINFANGSTRASSE KUFSTEIN', 'AT'),\n ('STARKENBACH 39 6491, SCHÖNWIES', 'AT'),\n ('6213, Eben Am Achensee', 'AT'),\n ('6215 eben am achensee', 'AT'),\n ('prockenhofweg 2 aldrans österreich', 'AT'),\n ('Stafflerweg - Axams', 'AT'),\n ('VOGELHÄNDLERGASSE 3 6460, IMST, ÖSTERREICH', 'AT'),\n ('terfens', 'AT'),\n ('terfens', 'AT'),\n ('6200, Jenbach', 'AT'),\n ('6200 jenbach, österreich', 'AT'),\n ('stribach 55 9991, dölsach, österreich', 'AT'),\n ('DÖLSACH DÖLSACH', 'AT'),\n ('hausbach, ellmau', 'AT'),\n ('Talstraße Ramsau Im Zillertal', 'AT'),\n ('Hauptstraße 1B 6074, Rinn', 'AT'),\n ('Haderlehn, Sautens', 'AT'),\n ('Aufeld, Zell Am Ziller', 'AT'),\n ('BAHNHOFSTRASSE ZELL AM ZILLER', 'AT'),\n ('FÖHRENWEG 18 6460, IMST', 'AT'),\n ('Thierbergweg 14 Kufstein', 'AT'),\n ('untergiblen, elbigenalp', 'AT'),\n ('brennerautobahn 4 schönberg im stubaital', 'AT'),\n ('RIED, OBERHOFEN IM INNTAL', 'AT'),\n ('zugspitzstraße 11 ehrwald', 'AT'),\n ('6531, RIED IM OBERINNTAL', 'AT'),\n ('6284 Ramsau Im Zillertal, Austria', 'AT'),\n ('pettneu am arlberg', 'AT'),\n ('6632 ehrwald austria', 'AT'),\n ('6141 SCHÖNBERG IM STUBAITAL AUSTRIA', 'AT'),\n ('9904 THURN, AUSTRIA', 'AT'),\n ('alte schulgasse schönberg im stubaital', 'AT'),\n ('HANS-JOACHIM-STRICKRODT WEG ELLMAU', 'AT'),\n ('wörgl, austria', 'AT'),\n ('Sonnensiedlung 1D Telfs', 'AT'),\n ('BAD HÄRING', 'AT'),\n ('Dir. Franz Hosp-Straße Reutte', 'AT'),\n ('6410 TELFS AUSTRIA', 'AT'),\n ('gabelsbergerstraße, innsbruck', 'AT'),\n ('Sadrachstraße 6 Innsbruck Österreich', 'AT'),\n ('Weiherburggasse - Innsbruck', 'AT'),\n ('hausfeldweg walchsee', 'AT'),\n ('ing.-etzel-straße innsbruck austria', 'AT'),\n ('Innsbruck Austria', 'AT'),\n ('Seestraße, Walchsee', 'AT'),\n ('Walchsee', 'AT'),\n ('Innsbruck, Austria', 'AT'),\n ('HASLAU 5 6361, HOPFGARTEN IM BRIXENTAL', 'AT'),\n ('Dorf - Wiesing', 'AT'),\n ('kernstockstraße 2 6020, innsbruck', 'AT'),\n ('HOPFGARTEN IM BRIXENTAL AUSTRIA', 'AT'),\n ('INNERPENNINGBERG 15 6361, HOPFGARTEN IM BRIXENTAL, AUSTRIA', 'AT'),\n ('6020, Innsbruck', 'AT'),\n ('6020 innsbruck, austria', 'AT'),\n ('Weingartnerstraße, Innsbruck', 'AT'),\n ('amerling 134a 6233, kramsach', 'AT'),\n ('sonnberg, oberau wildschönau', 'AT'),\n ('Unterkramsach - Kramsach', 'AT'),\n ('Auffang Innsbruck', 'AT'),\n ('AM RAIN 1 6321, ANGATH', 'AT'),\n ('Zöblen Austria', 'AT'),\n ('Innsbruck', 'AT'),\n ('ACHENKIRCH ACHENKIRCH', 'AT'),\n ('Flirsch Flirsch', 'AT'),\n ('6424 Silz', 'AT'),\n ('Feldweg 521 6108, Scharnitz', 'AT'),\n ('Pax 47 Vomp', 'AT'),\n ('6416 Obsteig Austria', 'AT'),\n ('GRUBERTALSTRASSE 13 6111, VOLDERS', 'AT'),\n ('BAHNHOFSTRASSE LANDECK', 'AT'),\n ('6136 pill austria', 'AT'),\n ('moos 24a 9971, matrei in osttirol', 'AT'),\n ('hermannstalstraße 913 seefeld in tirol', 'AT'),\n ('wolkensteinstraße völs', 'AT'),\n ('TSCHAFFINIS-UMGEBUNG FULPMES', 'AT'),\n ('KURHOTELPROMENADE 816 SEEFELD IN TIROL', 'AT'),\n ('am schlossberg 837 6100, seefeld in tirol', 'AT'),\n ('6306, SÖLL', 'AT'),\n ('Peter-Siegmair-Straße - Völs', 'AT'),\n ('albert-troppmair-weg wattens', 'AT'),\n ('FEISTRITZ 2 ST. JAKOB IN DEFEREGGEN ÖSTERREICH', 'AT'),\n ('NAUDERS 103 6543, NAUDERS', 'AT'),\n ('9942 OBERTILLIACH', 'AT'),\n ('dorf 78 obertilliach austria', 'AT'),\n ('9963 ST. JAKOB IN DEFEREGGEN AUSTRIA', 'AT'),\n ('6391 Fieberbrunn', 'AT'),\n ('steinberg am rofan - steinberg am rofan', 'AT'),\n ('GSCHWENT OBSTEIG', 'AT'),\n ('DORFSTRASSE 16A 6275, STUMM', 'AT'),\n ('oetz', 'AT'),\n ('via-claudia-augusta fiss österreich', 'AT'),\n ('Feichten, Kaunertal', 'AT'),\n ('Unterrotte, St. Jakob In Defereggen', 'AT'),\n ('pinzgerhausweg stumm', 'AT'),\n ('6275 stumm österreich', 'AT'),\n ('stumm', 'AT'),\n ('arzberg schwaz, österreich', 'AT'),\n ('stanzach', 'AT'),\n ('Römerstraße, Brixlegg', 'AT'),\n ('Mühlbichl Brixlegg', 'AT'),\n ('Südtiroler Straße Wattens', 'AT'),\n ('6250 KUNDL, ÖSTERREICH', 'AT'),\n ('WATTENS, AUSTRIA', 'AT'),\n ('6170, ZIRL', 'AT'),\n ('GRINS GRINS, ÖSTERREICH', 'AT'),\n ('Waldweg Aschau Im Zillertal', 'AT'),\n ('LINDENSTRASSE 51B 6283, SCHWENDAU', 'AT'),\n ('Schwaz', 'AT'),\n ('GRIESEGG TARRENZ, AUSTRIA', 'AT'),\n ('6464 Tarrenz Austria', 'AT'),\n ('tratteweg virgen', 'AT'),\n ('SILLIAN SILLIAN', 'AT'),\n ('6290, MAYRHOFEN', 'AT'),\n ('Äueleweg 12A Zirl', 'AT'),\n ('9920 Sillian, Österreich', 'AT'),\n ('OBERHOFEN IM INNTAL AUSTRIA', 'AT'),\n ('bundesstraße, rum', 'AT'),\n ('SCHÜTZENWEG ZIRL', 'AT'),\n ('6091 GÖTZENS, AUSTRIA', 'AT'),\n ('KLAUS SEE', 'AT'),\n ('6426, roppen', 'AT'),\n ('Ehenbichl', 'AT'),\n ('ZIRL', 'AT'),\n ('MOOSSTRASSE KIRCHBICHL', 'AT'),\n ('roppen austria', 'AT'),\n ('Oberlängenfeld 78A 6444, Längenfeld', 'AT'),\n ('Huben, Längenfeld', 'AT'),\n ('Falkensteinstraße - Schwaz', 'AT'),\n ('Knappenanger Schwaz', 'AT'),\n ('6292 finkenberg österreich', 'AT'),\n ('BUCH IN TIROL', 'AT'),\n ('ISCHGL', 'AT'),\n ('Rettweg 55 6353, Going Am Wilden Kaiser, Austria', 'AT'),\n ('Hochsteg 588 6292, Finkenberg, Austria', 'AT'),\n ('Hochsteg 580 6292, Finkenberg', 'AT'),\n ('Innerberg, Finkenberg', 'AT'),\n ('kirchfeldweg 22 6682, vils', 'AT'),\n ('Kirchberg In Tirol', 'AT'),\n ('EDENLEHEN MAYRHOFEN, AUSTRIA', 'AT'),\n ('UNTERTOR VILS', 'AT'),\n ('heinfels, österreich', 'AT'),\n ('Wattenberg', 'AT'),\n ('kitzbüheler straße, kirchberg in tirol', 'AT'),\n ('Tessenberg 29 9919, Heinfels', 'AT'),\n ('gries längenfeld', 'AT'),\n ('NIKOLSDORF, NIKOLSDORF', 'AT'),\n ('GSENG BRIXEN IM THALE AUSTRIA', 'AT'),\n ('jörg-kölderer-weg - inzing', 'AT'),\n ('INZING, ÖSTERREICH', 'AT'),\n ('THAUR', 'AT'),\n ('AMBERG, SCHWOICH', 'AT'),\n ('weiberndorf - st. johann in tirol', 'AT'),\n ('RUDI-MATT-WEG 10 ST. ANTON AM ARLBERG', 'AT'),\n ('Am Bach 28 Schwoich', 'AT'),\n ('PINNISWEG, NEUSTIFT IM STUBAITAL', 'AT'),\n ('EGERBACH 30 6334, SCHWOICH', 'AT'),\n ('St. Anton Am Arlberg Austria', 'AT'),\n ('am sonnenhang, langkampfen', 'AT'),\n ('SALZBURGER STRASSE, HALL IN TIROL', 'AT'),\n ('ZAUSSACH 69 MÜNSTER', 'AT'),\n ('6336 langkampfen, austria', 'AT'),\n ('6336 LANGKAMPFEN, ÖSTERREICH', 'AT'),\n ('STANZ BEI LANDECK', 'AT'),\n ('raitlasgasse umhausen österreich', 'AT'),\n ('Heinfels', 'AT'),\n ('haimingerberg haiming', 'AT'),\n ('ramsau 14 6252, breitenbach am inn', 'AT'),\n ('ZEUGHAUSGASSE 7 6020, INNSBRUCK', 'AT'),\n ('GARTENWEG 14B HAIMING', 'AT'),\n ('oberaigenweg kitzbühel', 'AT'),\n ('Kitzbühel', 'AT'),\n ('Hagsteinweg Kitzbühel', 'AT'),\n ('Attergasse - Silz', 'AT'),\n ('Kirchfeld 27 6235, Reith Im Alpbachtal', 'AT'),\n ('Krehbachgasse 10C 6410, Telfs, Österreich', 'AT'),\n ('KIRCHBICHL', 'AT'),\n ('KELCHSAU-UNTERDORF, HOPFGARTEN IM BRIXENTAL', 'AT'),\n ('Kuntenweg - Kolsass', 'AT'),\n ('6068 MILS ÖSTERREICH', 'AT'),\n ('Unterdorf 10 6068, Mils', 'AT'),\n ('Sonnenstraße 18A Innsbruck', 'AT'),\n ('Tauferpuit Umhausen, Austria', 'AT'),\n ('GASTEIGERFELD HOPFGARTEN IM BRIXENTAL', 'AT'),\n ('emmat 370u 6105, leutasch', 'AT'),\n ('neugasteig, neustift im stubaital', 'AT'),\n ('Gruberberg, Hopfgarten Im Brixental', 'AT'),\n ('6371 Aurach Bei Kitzbühel, Austria', 'AT'),\n ('claudiastraße - innsbruck', 'AT'),\n ('innsbruck, austria', 'AT'),\n ('6091 GÖTZENS ÖSTERREICH', 'AT'),\n ('lerch, hopfgarten in defereggen', 'AT'),\n ('SPITZKOFELSTRASSE LIENZ AUSTRIA', 'AT'),\n ('bürgerau 1a 9900, lienz, österreich', 'AT'),\n ('6072 lans', 'AT'),\n ('talstraße, hart im zillertal', 'AT'),\n ('MÜHLWEG 11 TULFES ÖSTERREICH', 'AT'),\n ('fernereben 9 grinzens', 'AT'),\n ('TAXERWEG, NEUSTIFT IM STUBAITAL', 'AT'),\n ('6532 Ladis', 'AT'),\n ('Radfeld Austria', 'AT'),\n ('SUNNBICHL WEERBERG', 'AT'),\n ('Hofgasse Kufstein', 'AT'),\n ('görtschach st. veit in defereggen', 'AT'),\n ('winkl wörgl', 'AT'),\n ('6363 WESTENDORF AUSTRIA', 'AT'),\n ('zachbichlweg - patsch', 'AT'),\n ('6341 EBBS ÖSTERREICH', 'AT'),\n ('schlechterhöhe 13 6345, kössen, österreich', 'AT'),\n ('ERL', 'AT'),\n ('Quellenweg 4C 6167, Neustift Im Stubaital', 'AT'),\n ('alberfeld flaurling', 'AT'),\n ('WÖRGL', 'AT'),\n ('thomas-walch-straße 33 imst österreich', 'AT'),\n ('Reith Im Alpbachtal, Österreich', 'AT'),\n ('FELDGASSE 11A EBBS', 'AT'),\n ('NAVIS ÖSTERREICH', 'AT'),\n ('Johannesplatz Lienz', 'AT'),\n ('6330 KUFSTEIN, ÖSTERREICH', 'AT'),\n ('bobojach - prägraten am großvenediger', 'AT'),\n ('UNTERBACH BACH', 'AT'),\n ('stockach, bach', 'AT'),\n ('salzbergstraße, absam', 'AT'),\n ('Kalksteinweg - St. Johann In Tirol', 'AT'),\n ('DURCHEN - KÖSSEN', 'AT'),\n ('johannesweg absam austria', 'AT'),\n ('HOLZHAM 12 6363, WESTENDORF, AUSTRIA', 'AT'),\n ('FRANZ-WILDAUER-WEG, UDERNS', 'AT'),\n ('HOPFGARTEN IM BRIXENTAL', 'AT'),\n ('Niederndorf', 'AT'),\n ('FINSINGSTRASSE - UDERNS', 'AT'),\n ('BAHNHOFWEG, ALDRANS', 'AT'),\n ('6161 natters, österreich', 'AT'),\n ('Osterstein Kalkofen Arzl Im Pitztal', 'AT'),\n ('Breitenwang Austria', 'AT'),\n ('PFUNDS', 'AT'),\n ('dorf pfunds', 'AT'),\n ('KAISER LOTHAR-STRASSE 19 REUTTE ÖSTERREICH', 'AT'),\n ('Reith Im Alpbachtal', 'AT'),\n ('Seblas, Matrei In Osttirol', 'AT'),\n ('kappl', 'AT'),\n ('Oberdorf, Neustift Im Stubaital', 'AT'),\n ('STAMS', 'AT'),\n ('Anras', 'AT'),\n ('ITTERER STRASSE, ITTER', 'AT'),\n ('Eichenweg - Stams', 'AT'),\n ('6555 Kappl', 'AT'),\n ('6555 Kappl', 'AT'),\n ('Rettenschöss, Austria', 'AT'),\n ('6555 kappl austria', 'AT'),\n ('6305 ITTER AUSTRIA', 'AT'),\n ('Moarfeldweg Lienz', 'AT'),\n ('Rauthweg 12 6175, Kematen In Tirol', 'AT'),\n ('DR.-RUDOLF-OSTERMANN-WEG - KEMATEN IN TIROL', 'AT'),\n ('axams', 'AT'),\n ('6212, eben am achensee', 'AT'),\n ('lindenstraße 7 innsbruck österreich', 'AT'),\n ('Grist 9 6591, Grins, Österreich', 'AT'),\n ('OBERHÄUSER - SCHÖNWIES', 'AT'),\n ('Hanffeldweg, Telfs', 'AT'),\n ('WEISSACH KUFSTEIN, AUSTRIA', 'AT'),\n ('pfarrplatz, kufstein', 'AT'),\n ('Umlberg 70 Terfens', 'AT'),\n ('HÖRMANNSTRASSE INNSBRUCK AUSTRIA', 'AT'),\n ('BERT-KÖLLENSPERGER-STRASSE THAUR', 'AT'),\n ('THIERSEE, AUSTRIA', 'AT'),\n ('HINTERTHIERSEE THIERSEE', 'AT'),\n ('SAUTENS', 'AT'),\n ('RAMSAU - RAMSAU IM ZILLERTAL', 'AT'),\n ('Vomp', 'AT'),\n ('KAPELLENWEG IMST, AUSTRIA', 'AT'),\n ('6141 Schönberg Im Stubaital', 'AT'),\n ('GRIES 13 NATTERS', 'AT'),\n ('kammerland 20 6173, oberperfuss', 'AT'),\n ('JOSEF-HEISS-STRASSE VOMP', 'AT'),\n ('GLEINS - SCHÖNBERG IM STUBAITAL', 'AT'),\n ('Ranggen', 'AT'),\n ('st. ulrich am pillersee österreich', 'AT'),\n ('birkenweg 6 6300, wörgl', 'AT'),\n ('6121 Baumkirchen, Austria', 'AT'),\n ('MITTERBERG - WEERBERG', 'AT'),\n ('am fuchsbühel telfs', 'AT'),\n ('Wörgl', 'AT'),\n ('GAIMBERG', 'AT'),\n ('ZETTERSFELD GAIMBERG ÖSTERREICH', 'AT'),\n ('GAIMBERG, ÖSTERREICH', 'AT'),\n ('hof strengen', 'AT'),\n ('strengen, österreich', 'AT'),\n ('kressbrunnenweg sölden, österreich', 'AT'),\n ('INNSBRUCK', 'AT'),\n ('HAUSBERGSTRASSE WALCHSEE AUSTRIA', 'AT'),\n ('innsbruck', 'AT'),\n ('Dorf, Wiesing', 'AT'),\n ('Durchholzen Walchsee', 'AT'),\n ('hippach', 'AT'),\n ('Prof.-Ficker-Weg - Innsbruck', 'AT'),\n ('BRUNECKER STRASSE INNSBRUCK', 'AT'),\n ('WOLFSGRUBE INNSBRUCK', 'AT'),\n ('6020, innsbruck', 'AT'),\n ('heachgasse, oberau - wildschönau', 'AT'),\n ('Balthasar-Waltl-Weg 4 6382, Kirchdorf In Tirol', 'AT'),\n ('dorf, thierbach wildschönau', 'AT'),\n ('Schönbergweg, Oberau 52 Wildschönau', 'AT'),\n ('6020, Innsbruck', 'AT'),\n ('nikolsdorf nikolsdorf, österreich', 'AT'),\n ('Hubangerweg 32 Götzens Österreich', 'AT'),\n ('Harterhofweg 98 Innsbruck', 'AT'),\n ('Achenkirch', 'AT'),\n ('WEISSACH 9A 6391, FIEBERBRUNN', 'AT'),\n ('achenkirch achenkirch', 'AT'),\n ('hirlanda-ellmann-weg 171 6108, scharnitz, austria', 'AT'),\n ('vorderlanersbach, tux', 'AT'),\n ('HINTERWALDNERSTRASSE, INNSBRUCK', 'AT'),\n ('matrei am brenner - matrei am brenner', 'AT'),\n ('ALPBACH, ALPBACH', 'AT'),\n ('dorfstraße 18 9918, strassen, österreich', 'AT'),\n ('alpbach alpbach', 'AT'),\n ('seblas, matrei in osttirol', 'AT'),\n ('dr.-schwamberger-straße, fulpmes', 'AT'),\n ('Finkenberg', 'AT'),\n ('Matrei In Osttirol', 'AT'),\n ('ALTE STRASSE 25 PFLACH ÖSTERREICH', 'AT'),\n ('SEEFELD IN TIROL', 'AT'),\n ('FRITZENS AUSTRIA', 'AT'),\n ('SCHWAZ', 'AT'),\n ('RÖMERSTRASSE REITH BEI SEEFELD, AUSTRIA', 'AT'),\n ('Seefeld In Tirol', 'AT'),\n ('6391, Fieberbrunn', 'AT'),\n ('Kalkkögelweg, Seefeld In Tirol', 'AT'),\n ('wattenberg österreich', 'AT'),\n ('ERICH-SCHWARZENBERGER-WEG, VÖLS', 'AT'),\n ('Häusern 10 6070, Ampass', 'AT'),\n ('MÜTZENS 19 MÜHLBACHL ÖSTERREICH', 'AT'),\n ('Almen Fieberbrunn', 'AT'),\n ('rosenegg, fieberbrunn', 'AT'),\n ('Oberlängenfeld - Längenfeld', 'AT'),\n ('Wald Obsteig, Austria', 'AT'),\n ('Larchetweg, Mieming', 'AT'),\n ('EBENE 21 6433, OETZ', 'AT'),\n ('6176 völs austria', 'AT'),\n ('Austraße 18 6122, Fritzens', 'AT'),\n ('Hauptstraße, Oetz', 'AT'),\n ('st. ulrich am pillersee', 'AT'),\n ('Sonnwinkel, Völs', 'AT'),\n ('Buchen, Telfs', 'AT'),\n ('Kauns', 'AT'),\n ('MÜHLGASSE - PRUTZ', 'AT'),\n ('MÜHLGASSE 2 6522, PRUTZ', 'AT'),\n ('6600 breitenwang, austria', 'AT'),\n ('INNSBRUCK', 'AT'),\n ('6433 OETZ, AUSTRIA', 'AT'),\n ('6263, Fügen', 'AT'),\n ('MOOSWEG 11 PRUTZ', 'AT'),\n ('nauders nauders', 'AT'),\n ('STÖCKLLEITE 8B WAIDRING', 'AT'),\n ('sonnwendstraße 11 6384, waidring', 'AT'),\n ('Zirl', 'AT'),\n ('strub waidring', 'AT'),\n ('wattenbachgasse - wattens', 'AT'),\n ('nußdorf-debant, austria', 'AT'),\n ('am sonnenhang 6 9990, nußdorf-debant', 'AT'),\n ('Tarrenz Österreich', 'AT'),\n ('FINKENBERG 13A 6063, RUM', 'AT'),\n ('nauders', 'AT'),\n ('ASCHAU IM ZILLERTAL', 'AT'),\n ('Mühltal 51 Westendorf Österreich', 'AT'),\n ('GRIESBACHWEG REITH BEI KITZBÜHEL', 'AT'),\n ('Oberer Feldweg Schwaz, Österreich', 'AT'),\n ('Ellmau, Österreich', 'AT'),\n ('6250, KUNDL', 'AT'),\n ('zirl', 'AT'),\n ('9981 kals am großglockner, österreich', 'AT'),\n ('VIRGEN', 'AT'),\n ('MAYRHOFEN', 'AT'),\n ('hochfilzen', 'AT'),\n ('DÖRFL HAINZENBERG ÖSTERREICH', 'AT'),\n ('Enterberg, Hainzenberg', 'AT'),\n ('6465 NASSEREITH', 'AT'),\n ('Gerlosstein 553A 6278, Hainzenberg, Austria', 'AT'),\n ('ASCHAU IM ZILLERTAL ÖSTERREICH', 'AT'),\n ('6425 HAIMING, AUSTRIA', 'AT'),\n ('marktplatz 5 zirl österreich', 'AT'),\n ('KAISERWEG GOING AM WILDEN KAISER', 'AT'),\n ('salzbergstraße, absam', 'AT'),\n ('VILLANDERERWEG, ABSAM', 'AT'),\n ('TIWAGSTRASSE KIRCHBICHL, AUSTRIA', 'AT'),\n ('SERFAUSER-FELD SERFAUS', 'AT'),\n ('gießenweg - fügen', 'AT'),\n ('SÄNGERWEG 21 6263, FÜGEN, AUSTRIA', 'AT'),\n ('KRANEBITTEN STEINACH AM BRENNER', 'AT'),\n ('bahnhof umgebung zirl', 'AT'),\n ('MAURACHWEG, KIRCHBERG IN TIROL', 'AT'),\n ('Fügen, Österreich', 'AT'),\n ('panzendorf, heinfels', 'AT'),\n ('Kirchberg In Tirol', 'AT'),\n ('Orgelergasse - Fügen', 'AT'),\n ('Lechaschau', 'AT'),\n ('FÜGEN', 'AT'),\n ('9919 heinfels', 'AT'),\n ('Brixen Im Thale Austria', 'AT'),\n ('Westendorf', 'AT'),\n ('GRÜNSBACH, MÜNSTER', 'AT'),\n ('sonngrub 109 kitzbühel austria', 'AT'),\n ('6364, brixen im thale', 'AT'),\n ('6134 VOMP', 'AT'),\n ('Radfeld', 'AT'),\n ('9992 iselsberg-stronach', 'AT'),\n ('kartitsch, kartitsch', 'AT'),\n ('6250, kundl', 'AT'),\n ('Habach Münster', 'AT'),\n ('6232 münster', 'AT'),\n ('Dornau, Langkampfen', 'AT'),\n ('Holzgasse, Innsbruck', 'AT'),\n ('obere dorfstraße langkampfen', 'AT'),\n ('höfen', 'AT'),\n ('Brunnenstraße, Kirchbichl', 'AT'),\n ('gasse leutasch', 'AT'),\n ('Hall In Tirol', 'AT'),\n ('Krippgasse 12 6060, Hall In Tirol', 'AT'),\n ('BUCH 27 6220, BUCH IN TIROL', 'AT'),\n ('OBERFALPETAN 15 6527, KAUNERBERG', 'AT'),\n ('TIROLERSTRASSE KIRCHBICHL', 'AT'),\n ('gallzein 63a gallzein', 'AT'),\n ('GERLOS GERLOS', 'AT'),\n ('gerlos, gerlos', 'AT'),\n ('HALL IN TIROL ÖSTERREICH', 'AT'),\n ('GERLOS 13 6281, GERLOS', 'AT'),\n ('BRIXENTALER STRASSE - HOPFGARTEN IM BRIXENTAL', 'AT'),\n ('INNSBRUCK', 'AT'),\n ('penningbergstraße hopfgarten im brixental', 'AT'),\n ('trientlstraße 12 hall in tirol', 'AT'),\n ('6182 GRIES IM SELLRAIN, AUSTRIA', 'AT'),\n ('HALL IN TIROL', 'AT'),\n ('schweizergasse lienz', 'AT'),\n ('obernbergweg 21 aurach bei kitzbühel austria', 'AT'),\n ('Kitzbühel Österreich', 'AT'),\n ('Galtür 113 6563, Galtür, Austria', 'AT'),\n ('Höhenweg - Sölden', 'AT'),\n ('bichl - breitenbach am inn', 'AT'),\n ('Siedlung Galtschein 26 Trins', 'AT'),\n ('Silz, Österreich', 'AT'),\n ('BUNDESSTRASSE - KOLSASS', 'AT'),\n ('Görtschach St. Veit In Defereggen', 'AT'),\n ('Gänsbichl Patsch', 'AT'),\n ('UNTERWEIDACH, EBBS', 'AT'),\n ('DORF, ERL', 'AT'),\n ('SCHANZ 10 EBBS AUSTRIA', 'AT'),\n ('Rosengasse, Innsbruck', 'AT'),\n ('EGGWEG, KÖSSEN', 'AT'),\n ('aschau brandenberg', 'AT'),\n ('alleestraße kössen, austria', 'AT'),\n ('Fallbachweg 9 6068, Mils', 'AT'),\n ('Imst', 'AT'),\n ('Kirchfeld, Reith Im Alpbachtal', 'AT'),\n ('ST. JAKOBER DORFSTRASSE, ST. ANTON AM ARLBERG', 'AT'),\n ('6235, REITH IM ALPBACHTAL', 'AT'),\n ('6580 ST. ANTON AM ARLBERG', 'AT'),\n ('Gaislachalm - Sölden', 'AT'),\n ('6330 Kufstein', 'AT'),\n ('assling', 'AT'),\n ('BERGLEHEN ST. JOHANN IN TIROL', 'AT'),\n ('IM MOOS 7 6067, ABSAM, ÖSTERREICH', 'AT'),\n ('BICHLACH KÖSSEN ÖSTERREICH', 'AT'),\n ('NEUBAUWEG - ST. JOHANN IN TIROL', 'AT'),\n ('LIENZ', 'AT'),\n ('mühlgraben, erl', 'AT'),\n ('ERL', 'AT'),\n ('dolomitenstraße 33f lienz', 'AT'),\n ('UNTERER PLUMES 2 NATTERS', 'AT'),\n ('josef-pöschl-weg - telfs', 'AT'),\n ('Schöneck 7 Stams Österreich', 'AT'),\n ('paß-thurn-straße - st. johann in tirol', 'AT'),\n ('ZELLBERGEBEN ZELLBERG', 'AT'),\n ('Mühlerstraße Breitenwang', 'AT'),\n ('untere sparchen kufstein', 'AT'),\n ('STUBEN - PFUNDS', 'AT'),\n ('dorf, pfunds', 'AT'),\n ('brechtenweg - inzing', 'AT'),\n ('KAPPL AUSTRIA', 'AT'),\n ('6200 Jenbach Österreich', 'AT'),\n ('ANGERBERG', 'AT'),\n ('steinach am brenner', 'AT'),\n ('FÜRHÖLZL EBBS, AUSTRIA', 'AT'),\n ('tischlerfeld, lienz', 'AT'),\n ('franz-senn-straße 58 6167, neustift im stubaital, austria', 'AT'),\n ('Unterdorf Rietz', 'AT'),\n ('6094 Axams, Austria', 'AT'),\n ('Fiecht Vomp, Österreich', 'AT'),\n ('Linden Angerberg', 'AT'),\n ('Rinn', 'AT'),\n ('föhrenwaldsiedlung 3 schönwies austria', 'AT'),\n ('puitenweg 1 6094, axams', 'AT'),\n ('BAHNHOFSTRASSE - TELFS', 'AT'),\n ('6212, eben am achensee', 'AT'),\n ('Maximilianstraße Lienz', 'AT'),\n ('BÄRENTALWEG - KUFSTEIN', 'AT'),\n ('UMLBERG - TERFENS', 'AT'),\n ('Imst', 'AT'),\n ('karwendelweg, terfens', 'AT'),\n ('FORCHAT - TERFENS', 'AT'),\n ('Weißlahn 13A 6123, Terfens', 'AT'),\n ('ÜBERFÜHRER, TERFENS', 'AT'),\n ('faggen 63 6525, faggen', 'AT'),\n ('St. Andrä - Prägraten Am Großvenediger', 'AT'),\n ('Dölsach', 'AT'),\n ('am gießen 1 6200, jenbach, österreich', 'AT'),\n ('blumeserweg sistrans', 'AT'),\n ('DÖLSACH', 'AT'),\n ('Thiersee', 'AT'),\n ('SCHÖNBERG IM STUBAITAL', 'AT'),\n ('imst österreich', 'AT'),\n ('stummerberg stummerberg österreich', 'AT'),\n ('schnann 30 6574, pettneu am arlberg', 'AT'),\n ('6432, sautens', 'AT'),\n ('Altmahd 30D Vomp Österreich', 'AT'),\n ('ALTMAHD VOMP', 'AT'),\n ('sirapuit, imst', 'AT'),\n ('maurach buch in tirol', 'AT'),\n ('innsbrucker straße ehrwald austria', 'AT'),\n ('BRENNBICHL 25 6460, IMST', 'AT'),\n ('6450 SÖLDEN, AUSTRIA', 'AT'),\n ('6450 Sölden', 'AT'),\n ('MOOSWEG 19 TELFS AUSTRIA', 'AT'),\n ('brandberg', 'AT'),\n ('Dorf Jochberg', 'AT'),\n ('6323 BAD HÄRING, AUSTRIA', 'AT'),\n ('walchsee', 'AT'),\n ('6020, Innsbruck', 'AT'),\n ('prof. dengel-straße 27 6600, reutte, österreich', 'AT'),\n ('BRENNERSTRASSE INNSBRUCK', 'AT'),\n ('gramartstraße, innsbruck', 'AT'),\n ('Bachgasse - Innsbruck', 'AT'),\n ('SCHWAIGS, WALCHSEE', 'AT'),\n ('FERIENDORF KIRCHDORF IN TIROL', 'AT'),\n ('Daneygasse 36 Innsbruck', 'AT'),\n ('DORFPLATZ 25 6382, KIRCHDORF IN TIROL, ÖSTERREICH', 'AT'),\n ('Endfelden, Oberau, Wildschönau', 'AT'),\n ('6363 Westendorf, Österreich', 'AT'),\n ('MARIA-THERESIEN-STRASSE - INNSBRUCK', 'AT'),\n ('ANNA-DENGEL-STRASSE INNSBRUCK', 'AT'),\n ('Leopoldstraße - Innsbruck', 'AT'),\n ('Angath', 'AT'),\n ('AUSSERBERG 48A 6133, WEERBERG', 'AT'),\n ('Innsbruck', 'AT'),\n ('ANGERSIEDLUNG POLLING IN TIROL, AUSTRIA', 'AT'),\n ('ainet ainet', 'AT'),\n ('AINET AINET', 'AT'),\n ('BICHLALM 602 TUX', 'AT'),\n ('MATREI AM BRENNER', 'AT'),\n ('MIEMING AUSTRIA', 'AT'),\n ('ALPBACH 713A 6236, ALPBACH', 'AT'),\n ('alpbach 632 alpbach österreich', 'AT'),\n ('waldrasterstraße - fulpmes', 'AT'),\n ('ZEDLACH 30 9971, MATREI IN OSTTIROL, ÖSTERREICH', 'AT'),\n ('bräuweg, lechaschau', 'AT'),\n ('6112, WATTENS', 'AT'),\n ('karl-mayr-straße 132 nassereith', 'AT'),\n ('LECHASCHAU ÖSTERREICH', 'AT'),\n ('Unterdorf 12 6600, Lechaschau', 'AT'),\n ('UNTERDORF - LECHASCHAU', 'AT'),\n ('FULPMES', 'AT'),\n ('auenweg fulpmes', 'AT'),\n ('Wattenberg', 'AT'),\n ('Schlaiten Austria', 'AT'),\n ('AMPASS', 'AT'),\n ('obermieming, mieming', 'AT'),\n ('JAGDHAUS 4 ST. JAKOB IN DEFEREGGEN', 'AT'),\n ('Vergötschen 57 6524, Kaunertal', 'AT'),\n ('9963 ST. JAKOB IN DEFEREGGEN AUSTRIA', 'AT'),\n ('6363 Westendorf', 'AT'),\n ('6533 FISS, ÖSTERREICH', 'AT'),\n ('St. Ulrich Am Pillersee, Austria', 'AT'),\n ('längenfeld', 'AT'),\n ('dorfstraße kauns austria', 'AT'),\n ('Dorfstraße 79 St. Ulrich Am Pillersee Österreich', 'AT'),\n ('Telfs', 'AT'),\n ('MÄRZENSTRASSE STUMM', 'AT'),\n ('feriendorf - kirchdorf in tirol', 'AT'),\n ('Hagau 32 6233, Kramsach', 'AT'),\n ('Austraße - Fritzens', 'AT'),\n ('tuffweg 3 prutz österreich', 'AT'),\n ('achenkirch achenkirch, austria', 'AT'),\n ('mariatal kramsach', 'AT'),\n ('landeck österreich', 'AT'),\n ('6250 kundl austria', 'AT'),\n ('weitschön kundl', 'AT'),\n ('nußdorf-debant', 'AT'),\n ('Stöcklweg Waidring', 'AT'),\n ('Golfweg, Reith Bei Kitzbühel', 'AT'),\n ('OBERLETZEN 21 6600, PFLACH', 'AT'),\n ('OBERDORF, STRASS IM ZILLERTAL', 'AT'),\n ('OBERDORF STRASS IM ZILLERTAL, ÖSTERREICH', 'AT'),\n ('LÄRCHENSTRASSE, RUM', 'AT'),\n ('NACHTSÖLLBERG 68 6363, WESTENDORF, ÖSTERREICH', 'AT'),\n ('DORFSTRASSE, TRISTACH', 'AT'),\n ('6500 Landeck', 'AT'),\n ('Austraße - Rum', 'AT'),\n ('griesegg tarrenz österreich', 'AT'),\n ('TARRENZ', 'AT'),\n ('Finkenberg Rum', 'AT'),\n ('6395 HOCHFILZEN, ÖSTERREICH', 'AT'),\n ('Virgen', 'AT'),\n ('6170, zirl', 'AT'),\n ('St. Johann Im Walde, St. Johann Im Walde', 'AT'),\n ('gasse 79 innervillgraten', 'AT'),\n ('schmirn', 'AT'),\n ('villandererweg absam', 'AT'),\n ('KIRCHBICHL', 'AT'),\n ('6290, MAYRHOFEN', 'AT'),\n ('finkenberg', 'AT'),\n ('9920 SILLIAN, ÖSTERREICH', 'AT'),\n ('6130 schwaz, österreich', 'AT'),\n ('hochsteg 595 6292, finkenberg, österreich', 'AT'),\n ('6181 SELLRAIN', 'AT'),\n ('KIRCHBICHL', 'AT'),\n ('pöllmühle 11 6365, kirchberg in tirol', 'AT'),\n ('Tauegert, Sellrain', 'AT'),\n ('6444 längenfeld, austria', 'AT'),\n ('REITHERGASSE 84 6365, KIRCHBERG IN TIROL', 'AT'),\n ('Bichl - Grinzens', 'AT'),\n ('Grinzens', 'AT'),\n ('Loarental - Grinzens', 'AT'),\n ('MATZLEWALD, WENNS', 'AT'),\n ('wenns', 'AT'),\n ('LECHASCHAU, ÖSTERREICH', 'AT'),\n ('6215 Steinberg Am Rofan Austria', 'AT'),\n ('LOURDES - SERFAUS', 'AT'),\n ('6365 KIRCHBERG IN TIROL ÖSTERREICH', 'AT'),\n ('Wattenberg - Wattenberg', 'AT'),\n ('entgasse 47 münster austria', 'AT'),\n ('HAUPTSTRASSE 6A 6401, INZING', 'AT'),\n ('Filz Brixen Im Thale Österreich', 'AT'),\n ('husslstraße - schwaz', 'AT'),\n ('ALMEN OBERNDORF IN TIROL ÖSTERREICH', 'AT'),\n ('Kartitsch - Kartitsch', 'AT'),\n ('KARL-RAHNER-PLATZ INNSBRUCK', 'AT'),\n ('Dorfstraße Kundl', 'AT'),\n ('LINDENWEG, KUNDL', 'AT'),\n ('6250 kundl', 'AT'),\n ('KITZBÜHEL, ÖSTERREICH', 'AT'),\n ('6020 Innsbruck', 'AT'),\n ('oberdorf stans', 'AT'),\n ('breitenbach am inn österreich', 'AT'),\n ('HAIMING', 'AT'),\n ('HAUS BREITENBACH AM INN, ÖSTERREICH', 'AT'),\n ('langgasse imst', 'AT'),\n ('imst österreich', 'AT'),\n ('Mutters', 'AT'),\n ('SÜDTIROLER STRASSE, TELFS', 'AT'),\n ('südtiroler straße 45 6410, telfs', 'AT'),\n ('maurach, buch in tirol', 'AT'),\n ('6322 kirchbichl, austria', 'AT'),\n ('FORSTSTRASSE KIRCHBICHL', 'AT'),\n ('FALLBACHWEG - MILS', 'AT'),\n ('UNTRITT, MILS', 'AT'),\n ('KARLSBADER WEG LIENZ', 'AT'),\n ('lindenstraße, kirchbichl', 'AT'),\n ('Lindrain - Mils', 'AT'),\n ('neustift im stubaital', 'AT'),\n ('FASSERGASSE 19 6060, HALL IN TIROL', 'AT'),\n ('Niederndorf', 'AT'),\n ('6654 HOLZGAU AUSTRIA', 'AT'),\n ('Leiraweg Neustift Im Stubaital', 'AT'),\n ('Schnapfen 1 Hopfgarten Im Brixental', 'AT'),\n ('Meilerhütte - Leutasch', 'AT'),\n ('OBERNBERGWEG 20 AURACH BEI KITZBÜHEL', 'AT'),\n ('Innsbruck, Österreich', 'AT'),\n ('Matrei In Osttirol Austria', 'AT'),\n ('neuhausfeld jochberg, österreich', 'AT'),\n ('lienz', 'AT'),\n ('lienz austria', 'AT'),\n ('Gigglingalmweg Jochberg', 'AT'),\n ('Hochfügen Fügenberg', 'AT'),\n ('gries gries im sellrain', 'AT'),\n ('PATRIASDORF - LIENZ', 'AT'),\n ('NEUHAUSWEG 19 RIED IM ZILLERTAL', 'AT'),\n ('Galtür Galtür Austria', 'AT'),\n ('MOOS 145 6252, BREITENBACH AM INN', 'AT'),\n ('SCHWEIZERGASSE, LIENZ', 'AT'),\n ('MILS ÖSTERREICH', 'AT'),\n ('6423, Mötz', 'AT'),\n ('HERRENGASSE NEUSTIFT IM STUBAITAL AUSTRIA', 'AT'),\n ('6334 Schwoich Austria', 'AT'),\n ('Schmiedstraße Silz', 'AT'),\n ('6345, KÖSSEN', 'AT'),\n ('6460, IMST', 'AT'),\n ('Titsch 20 Anras', 'AT'),\n ('HÄSELGEHR', 'AT'),\n ('6610 Wängle', 'AT'),\n ('KLEINSÖLL BREITENBACH AM INN, AUSTRIA', 'AT'),\n ('6068 MILS', 'AT'),\n ('6450 sölden', 'AT'),\n ('alleestraße, kössen', 'AT'),\n ('Assling', 'AT'),\n ('fiegerstraße, volders', 'AT'),\n ('Bruggenfeldstraße - Volders', 'AT'),\n ('KREPPERHÜTTENWEG, VOLDERS', 'AT'),\n ('wängle', 'AT'),\n ('6600, Pinswang', 'AT'),\n ('UNHOLZEN ANGERBERG', 'AT'),\n ('ROHRBERG AUSTRIA', 'AT'),\n ('6345, Kössen', 'AT'),\n ('kaplanstraße 5 6067, absam', 'AT'),\n ('MAG.EDUARD-ANGERERWEG 19 6380, ST. JOHANN IN TIROL', 'AT'),\n ('angerberg', 'AT'),\n ('stollenstraße - thaur', 'AT'),\n ('Schäufele 7 6094, Axams', 'AT'),\n ('BÄRNSTETTEN, ST. JOHANN IN TIROL', 'AT'),\n ('Absam', 'AT'),\n ('hopfgarten im brixental', 'AT'),\n ('ELMEN, ÖSTERREICH', 'AT'),\n ('ANGERBERG ÖSTERREICH', 'AT'),\n ('DOLOMITENSTRASSE LIENZ, AUSTRIA', 'AT'),\n ('Pfarrtal 9D Aldrans', 'AT'),\n ('ZELLBERG, ZELLBERG', 'AT'),\n ('Zellberg, Zellberg', 'AT'),\n ('SCHWENTLINGWEG ST. JOHANN IN TIROL', 'AT'),\n ('Lanersbach Tux', 'AT'),\n ('angererweg tulfes', 'AT'),\n ('Oberleins 30 6471, Arzl Im Pitztal', 'AT'),\n ('Pfunds', 'AT'),\n ('TELFS', 'AT'),\n ('Oberweg, Navis', 'AT'),\n ('riedweg sistrans austria', 'AT'),\n ('lafairs 675 pfunds', 'AT'),\n ('otto-grünmandl-straße, hall in tirol', 'AT'),\n ('6542 Pfunds, Österreich', 'AT'),\n ('6083 ellbögen', 'AT'),\n ('unholzen 96 6320, angerberg', 'AT'),\n ('Außertal 38A 6157, Obernberg Am Brenner, Austria', 'AT'),\n ('Ehrwald', 'AT'),\n ('Südtirolerstraße Rattenberg', 'AT'),\n ('6074 Rinn Österreich', 'AT'),\n ('Archen Hofgarten Rinn', 'AT'),\n ('Dorf, Schönwies', 'AT'),\n ('hölzli, ehrwald', 'AT'),\n ('Weissachstraße - Kufstein', 'AT'),\n ('Weißlahn Terfens', 'AT'),\n ('Pfeiferweg, Jenbach', 'AT'),\n ('bahnhofsiedlung - terfens', 'AT'),\n ('6200 jenbach, österreich', 'AT'),\n ('6525, faggen', 'AT'),\n ('KIENBERGSTRASSE JENBACH', 'AT'),\n ('Almen - Thiersee', 'AT'),\n ('stribach dölsach', 'AT'),\n ('prägraten am großvenediger, austria', 'AT'),\n ('STADTBERG, KUFSTEIN', 'AT'),\n ('Hochleitenweg - Sautens', 'AT'),\n ('Bichl 498 6284, Ramsau Im Zillertal, Österreich', 'AT'),\n ('Dorfstraße Mieders', 'AT'),\n ('lehngasse imst österreich', 'AT'),\n ('Glockenhofstraße Tulfes', 'AT'),\n ('Aigling Oberperfuss', 'AT'),\n ('lärchenweg 13 natters österreich', 'AT'),\n ('bichl, ramsau im zillertal', 'AT'),\n ('salzburger straße - wörgl', 'AT'),\n ('ST. ULRICH AM PILLERSEE', 'AT'),\n ('dr. angeli-straße wörgl', 'AT'),\n ('hermann gilm-straße wörgl', 'AT'),\n ('6323, bad häring', 'AT'),\n ('reutte', 'AT'),\n ('HANS-LIEBHERR-STRASSE 15 6410, TELFS, AUSTRIA', 'AT'),\n ('BRAND 3 TELFS AUSTRIA', 'AT'),\n ('leckbichl weerberg', 'AT'),\n ('singmoos bad häring', 'AT'),\n ('SÖLDEN ÖSTERREICH', 'AT'),\n ('Kaisers', 'AT'),\n ('Windhag Brandberg, Österreich', 'AT'),\n ('Untergschwend, Tannheim', 'AT'),\n ('hippach-dorf - hippach', 'AT'),\n ('kranebitter allee, innsbruck', 'AT'),\n ('PURNHOFWEG INNSBRUCK', 'AT'),\n ('SPECKWEG INNSBRUCK', 'AT'),\n ('lindenstraße 9 innsbruck', 'AT'),\n ('INNSBRUCK', 'AT'),\n ('Judenwiese 5A 6230, Brixlegg', 'AT'),\n ('Dr.-Hans-Klocker-Straße 10 6020, Innsbruck', 'AT'),\n ('andechsstraße innsbruck', 'AT'),\n ('framsweg, innsbruck', 'AT'),\n ('WEINGARTNERSTRASSE - INNSBRUCK', 'AT'),\n ('Innsbruck', 'AT'),\n ('IN DER ULLE, INNSBRUCK', 'AT'),\n ('ZAUBERWINKELWEG, OBERAU WILDSCHÖNAU', 'AT'),\n ('6311 WILDSCHÖNAU', 'AT'),\n ('6020, INNSBRUCK', 'AT'),\n ('Roggenboden, Oberau, Wildschönau', 'AT'),\n ('FLIRSCH, FLIRSCH', 'AT'),\n ('Vorderhornbach', 'AT'),\n ('SCHARNITZ', 'AT'),\n ('6108 scharnitz', 'AT'),\n ('MIEMING', 'AT'),\n ('kirchmairwies pill', 'AT'),\n ('in der ulle, innsbruck', 'AT'),\n ('6416 Obsteig', 'AT'),\n ('riedl oberperfuss', 'AT'),\n ('Grins Grins, Österreich', 'AT'),\n ('6294 Tux Austria', 'AT'),\n ('Tux, Österreich', 'AT'),\n ('MÜHLGASSE WILDERMIEMING', 'AT'),\n ('JOHANN-PANZL-STRASSE 7 MATREI IN OSTTIROL ÖSTERREICH', 'AT'),\n ('Karres Karres', 'AT'),\n ('Dorfstraße, Fritzens', 'AT'),\n ('Freiheitssiedlung Schwaz, Austria', 'AT'),\n ('ZINTBERG SCHWAZ ÖSTERREICH', 'AT'),\n ('Hubertusweg, Fritzens', 'AT'),\n ('BIEDRING 21A ELLMAU', 'AT'),\n ('Gröbentalweg 2D Ampass', 'AT'),\n ('9963 ST. JAKOB IN DEFEREGGEN', 'AT'),\n ('völs', 'AT'),\n ('GRUBERAU FIEBERBRUNN', 'AT'),\n ('Schloßberg Fieberbrunn, Österreich', 'AT'),\n ('Kettlerweg 12 6414, Mieming, Austria', 'AT'),\n ('OBFELDES MÜHLBACHL ÖSTERREICH', 'AT'),\n ('BERGBAHNSTRASSE HÖFEN', 'AT'),\n ('lavant 47 lavant', 'AT'),\n ('perjenerweg, landeck', 'AT'),\n ('DORFSTRASSE, MILS BEI IMST', 'AT'),\n ('Obernußdorf Nußdorf-Debant', 'AT'),\n ...]"
     },
     "execution_count": 13,
     "metadata": {},
     "output_type": "execute_result"
    }
   ],
   "source": [
    "test_addresses"
   ],
   "metadata": {
    "collapsed": false,
    "ExecuteTime": {
     "end_time": "2023-11-18T20:07:43.556560200Z",
     "start_time": "2023-11-18T20:07:43.519538200Z"
    }
   }
  },
  {
   "cell_type": "code",
   "execution_count": 14,
   "outputs": [
    {
     "data": {
      "text/plain": "['eb5442705969dc8da5dfac8f9658dc68acdab5bb7635ba7cc551e389416ac34e',\n 'eb5442705969dc8da5dfac8f9658dc68acdab5bb7635ba7cc551e389416ac34e',\n 'eb5442705969dc8da5dfac8f9658dc68acdab5bb7635ba7cc551e389416ac34e',\n 'eb5442705969dc8da5dfac8f9658dc68acdab5bb7635ba7cc551e389416ac34e',\n 'eb5442705969dc8da5dfac8f9658dc68acdab5bb7635ba7cc551e389416ac34e',\n 'eb5442705969dc8da5dfac8f9658dc68acdab5bb7635ba7cc551e389416ac34e',\n 'eb5442705969dc8da5dfac8f9658dc68acdab5bb7635ba7cc551e389416ac34e',\n 'eb5442705969dc8da5dfac8f9658dc68acdab5bb7635ba7cc551e389416ac34e',\n 'eb5442705969dc8da5dfac8f9658dc68acdab5bb7635ba7cc551e389416ac34e',\n 'eb5442705969dc8da5dfac8f9658dc68acdab5bb7635ba7cc551e389416ac34e',\n 'eb5442705969dc8da5dfac8f9658dc68acdab5bb7635ba7cc551e389416ac34e',\n 'eb5442705969dc8da5dfac8f9658dc68acdab5bb7635ba7cc551e389416ac34e',\n 'eb5442705969dc8da5dfac8f9658dc68acdab5bb7635ba7cc551e389416ac34e',\n 'eb5442705969dc8da5dfac8f9658dc68acdab5bb7635ba7cc551e389416ac34e',\n 'eb5442705969dc8da5dfac8f9658dc68acdab5bb7635ba7cc551e389416ac34e',\n 'eb5442705969dc8da5dfac8f9658dc68acdab5bb7635ba7cc551e389416ac34e',\n 'eb5442705969dc8da5dfac8f9658dc68acdab5bb7635ba7cc551e389416ac34e',\n 'eb5442705969dc8da5dfac8f9658dc68acdab5bb7635ba7cc551e389416ac34e',\n 'eb5442705969dc8da5dfac8f9658dc68acdab5bb7635ba7cc551e389416ac34e',\n 'eb5442705969dc8da5dfac8f9658dc68acdab5bb7635ba7cc551e389416ac34e',\n 'eb5442705969dc8da5dfac8f9658dc68acdab5bb7635ba7cc551e389416ac34e',\n 'eb5442705969dc8da5dfac8f9658dc68acdab5bb7635ba7cc551e389416ac34e',\n 'eb5442705969dc8da5dfac8f9658dc68acdab5bb7635ba7cc551e389416ac34e',\n 'eb5442705969dc8da5dfac8f9658dc68acdab5bb7635ba7cc551e389416ac34e',\n 'eb5442705969dc8da5dfac8f9658dc68acdab5bb7635ba7cc551e389416ac34e',\n 'eb5442705969dc8da5dfac8f9658dc68acdab5bb7635ba7cc551e389416ac34e',\n '6814ef46f686990cf4e946f966167b0507e1d642c44e51f61bffb0bba2d4672b',\n 'eb5442705969dc8da5dfac8f9658dc68acdab5bb7635ba7cc551e389416ac34e',\n 'eb5442705969dc8da5dfac8f9658dc68acdab5bb7635ba7cc551e389416ac34e',\n '501c26b2571a1f7fd72df8c21593874fc874c97145717470596895d1c22203f7',\n 'eb5442705969dc8da5dfac8f9658dc68acdab5bb7635ba7cc551e389416ac34e',\n '4334ffcf78137d9c9d5866146d7f29a62735f232fc7239bd43332145e376bda3',\n 'eb5442705969dc8da5dfac8f9658dc68acdab5bb7635ba7cc551e389416ac34e',\n 'eb5442705969dc8da5dfac8f9658dc68acdab5bb7635ba7cc551e389416ac34e',\n 'eb5442705969dc8da5dfac8f9658dc68acdab5bb7635ba7cc551e389416ac34e',\n 'eb5442705969dc8da5dfac8f9658dc68acdab5bb7635ba7cc551e389416ac34e',\n 'eb5442705969dc8da5dfac8f9658dc68acdab5bb7635ba7cc551e389416ac34e',\n 'eb5442705969dc8da5dfac8f9658dc68acdab5bb7635ba7cc551e389416ac34e',\n 'eb5442705969dc8da5dfac8f9658dc68acdab5bb7635ba7cc551e389416ac34e',\n 'eb5442705969dc8da5dfac8f9658dc68acdab5bb7635ba7cc551e389416ac34e',\n 'eb5442705969dc8da5dfac8f9658dc68acdab5bb7635ba7cc551e389416ac34e',\n 'eb5442705969dc8da5dfac8f9658dc68acdab5bb7635ba7cc551e389416ac34e',\n 'eb5442705969dc8da5dfac8f9658dc68acdab5bb7635ba7cc551e389416ac34e',\n 'eb5442705969dc8da5dfac8f9658dc68acdab5bb7635ba7cc551e389416ac34e',\n 'eb5442705969dc8da5dfac8f9658dc68acdab5bb7635ba7cc551e389416ac34e',\n 'eb5442705969dc8da5dfac8f9658dc68acdab5bb7635ba7cc551e389416ac34e',\n 'eb5442705969dc8da5dfac8f9658dc68acdab5bb7635ba7cc551e389416ac34e',\n 'eb5442705969dc8da5dfac8f9658dc68acdab5bb7635ba7cc551e389416ac34e',\n 'eb5442705969dc8da5dfac8f9658dc68acdab5bb7635ba7cc551e389416ac34e',\n 'eb5442705969dc8da5dfac8f9658dc68acdab5bb7635ba7cc551e389416ac34e',\n 'eb5442705969dc8da5dfac8f9658dc68acdab5bb7635ba7cc551e389416ac34e',\n 'eb5442705969dc8da5dfac8f9658dc68acdab5bb7635ba7cc551e389416ac34e',\n 'eb5442705969dc8da5dfac8f9658dc68acdab5bb7635ba7cc551e389416ac34e',\n 'eb5442705969dc8da5dfac8f9658dc68acdab5bb7635ba7cc551e389416ac34e',\n 'eb5442705969dc8da5dfac8f9658dc68acdab5bb7635ba7cc551e389416ac34e',\n 'eb5442705969dc8da5dfac8f9658dc68acdab5bb7635ba7cc551e389416ac34e',\n 'eb5442705969dc8da5dfac8f9658dc68acdab5bb7635ba7cc551e389416ac34e',\n 'eb5442705969dc8da5dfac8f9658dc68acdab5bb7635ba7cc551e389416ac34e',\n 'eb5442705969dc8da5dfac8f9658dc68acdab5bb7635ba7cc551e389416ac34e',\n 'eb5442705969dc8da5dfac8f9658dc68acdab5bb7635ba7cc551e389416ac34e',\n '1b127c358de26517e699cc4ec5ff86fc45fd6c8e0ad49d1f2783b38c20b92c6c',\n 'eb5442705969dc8da5dfac8f9658dc68acdab5bb7635ba7cc551e389416ac34e',\n 'eb5442705969dc8da5dfac8f9658dc68acdab5bb7635ba7cc551e389416ac34e',\n 'eb5442705969dc8da5dfac8f9658dc68acdab5bb7635ba7cc551e389416ac34e',\n 'eb5442705969dc8da5dfac8f9658dc68acdab5bb7635ba7cc551e389416ac34e',\n 'eb5442705969dc8da5dfac8f9658dc68acdab5bb7635ba7cc551e389416ac34e',\n 'eb5442705969dc8da5dfac8f9658dc68acdab5bb7635ba7cc551e389416ac34e',\n 'eb5442705969dc8da5dfac8f9658dc68acdab5bb7635ba7cc551e389416ac34e',\n 'eb5442705969dc8da5dfac8f9658dc68acdab5bb7635ba7cc551e389416ac34e',\n 'eb5442705969dc8da5dfac8f9658dc68acdab5bb7635ba7cc551e389416ac34e',\n 'eb5442705969dc8da5dfac8f9658dc68acdab5bb7635ba7cc551e389416ac34e',\n 'eb5442705969dc8da5dfac8f9658dc68acdab5bb7635ba7cc551e389416ac34e',\n 'f415bf7b07a9b2c07029144aafb3c59d0187682ecd2b8c8ac911e742a38a5f36',\n 'eb5442705969dc8da5dfac8f9658dc68acdab5bb7635ba7cc551e389416ac34e',\n 'eb5442705969dc8da5dfac8f9658dc68acdab5bb7635ba7cc551e389416ac34e',\n 'eb5442705969dc8da5dfac8f9658dc68acdab5bb7635ba7cc551e389416ac34e',\n 'eb5442705969dc8da5dfac8f9658dc68acdab5bb7635ba7cc551e389416ac34e',\n 'eb5442705969dc8da5dfac8f9658dc68acdab5bb7635ba7cc551e389416ac34e',\n 'eb5442705969dc8da5dfac8f9658dc68acdab5bb7635ba7cc551e389416ac34e',\n 'eb5442705969dc8da5dfac8f9658dc68acdab5bb7635ba7cc551e389416ac34e',\n 'eb5442705969dc8da5dfac8f9658dc68acdab5bb7635ba7cc551e389416ac34e',\n 'eb5442705969dc8da5dfac8f9658dc68acdab5bb7635ba7cc551e389416ac34e',\n 'eb5442705969dc8da5dfac8f9658dc68acdab5bb7635ba7cc551e389416ac34e',\n 'eb5442705969dc8da5dfac8f9658dc68acdab5bb7635ba7cc551e389416ac34e',\n 'eb5442705969dc8da5dfac8f9658dc68acdab5bb7635ba7cc551e389416ac34e',\n 'eb5442705969dc8da5dfac8f9658dc68acdab5bb7635ba7cc551e389416ac34e',\n 'eb5442705969dc8da5dfac8f9658dc68acdab5bb7635ba7cc551e389416ac34e',\n 'eb5442705969dc8da5dfac8f9658dc68acdab5bb7635ba7cc551e389416ac34e',\n 'eb5442705969dc8da5dfac8f9658dc68acdab5bb7635ba7cc551e389416ac34e',\n 'f415bf7b07a9b2c07029144aafb3c59d0187682ecd2b8c8ac911e742a38a5f36',\n 'eb5442705969dc8da5dfac8f9658dc68acdab5bb7635ba7cc551e389416ac34e',\n 'eb5442705969dc8da5dfac8f9658dc68acdab5bb7635ba7cc551e389416ac34e',\n 'eb5442705969dc8da5dfac8f9658dc68acdab5bb7635ba7cc551e389416ac34e',\n 'eb5442705969dc8da5dfac8f9658dc68acdab5bb7635ba7cc551e389416ac34e',\n 'eb5442705969dc8da5dfac8f9658dc68acdab5bb7635ba7cc551e389416ac34e',\n 'eb5442705969dc8da5dfac8f9658dc68acdab5bb7635ba7cc551e389416ac34e',\n 'eb5442705969dc8da5dfac8f9658dc68acdab5bb7635ba7cc551e389416ac34e',\n 'eb5442705969dc8da5dfac8f9658dc68acdab5bb7635ba7cc551e389416ac34e',\n 'eb5442705969dc8da5dfac8f9658dc68acdab5bb7635ba7cc551e389416ac34e',\n 'eb5442705969dc8da5dfac8f9658dc68acdab5bb7635ba7cc551e389416ac34e']"
     },
     "execution_count": 14,
     "metadata": {},
     "output_type": "execute_result"
    }
   ],
   "source": [
    "countryMatcher.find_country_hash(test_addresses_address[:100])"
   ],
   "metadata": {
    "collapsed": false,
    "ExecuteTime": {
     "end_time": "2023-11-18T20:07:52.237061800Z",
     "start_time": "2023-11-18T20:07:51.212779300Z"
    }
   }
  },
  {
   "cell_type": "code",
   "execution_count": 15,
   "outputs": [
    {
     "data": {
      "text/plain": "100"
     },
     "execution_count": 15,
     "metadata": {},
     "output_type": "execute_result"
    }
   ],
   "source": [
    "len(countryMatcher.find_country_hash(test_addresses_address[:100]))"
   ],
   "metadata": {
    "collapsed": false,
    "ExecuteTime": {
     "end_time": "2023-11-18T20:08:29.277843800Z",
     "start_time": "2023-11-18T20:08:28.302560300Z"
    }
   }
  },
  {
   "cell_type": "code",
   "execution_count": 14,
   "outputs": [
    {
     "data": {
      "text/plain": "'FR'"
     },
     "execution_count": 14,
     "metadata": {},
     "output_type": "execute_result"
    }
   ],
   "source": [
    "countryMatcher.find_country_hash(\"6250 KUNDL, ÖSTERREICH\")"
   ],
   "metadata": {
    "collapsed": false,
    "ExecuteTime": {
     "end_time": "2023-11-18T19:33:05.734356300Z",
     "start_time": "2023-11-18T19:33:05.665380700Z"
    }
   }
  },
  {
   "cell_type": "code",
   "execution_count": null,
   "outputs": [],
   "source": [],
   "metadata": {
    "collapsed": false
   }
  },
  {
   "cell_type": "code",
   "execution_count": 8,
   "outputs": [
    {
     "ename": "NameError",
     "evalue": "name 'hashlib' is not defined",
     "output_type": "error",
     "traceback": [
      "\u001B[1;31m---------------------------------------------------------------------------\u001B[0m",
      "\u001B[1;31mNameError\u001B[0m                                 Traceback (most recent call last)",
      "Cell \u001B[1;32mIn[8], line 4\u001B[0m\n\u001B[0;32m      1\u001B[0m \u001B[38;5;28;01mfor\u001B[39;00m address, expected_output \u001B[38;5;129;01min\u001B[39;00m \u001B[38;5;28mzip\u001B[39m(test_addresses_address, test_addresses_output):\n\u001B[0;32m      2\u001B[0m     output \u001B[38;5;241m=\u001B[39m countryMatcher\u001B[38;5;241m.\u001B[39mfind_country_hash(address, confidence_threshold\u001B[38;5;241m=\u001B[39m\u001B[38;5;241m100\u001B[39m)\n\u001B[1;32m----> 4\u001B[0m     \u001B[38;5;28;01mif\u001B[39;00m output \u001B[38;5;241m!=\u001B[39m \u001B[43mhashlib\u001B[49m\u001B[38;5;241m.\u001B[39msha256(expected_output\u001B[38;5;241m.\u001B[39mencode(\u001B[38;5;124m'\u001B[39m\u001B[38;5;124mutf-8\u001B[39m\u001B[38;5;124m'\u001B[39m))\u001B[38;5;241m.\u001B[39mhexdigest():\n\u001B[0;32m      5\u001B[0m         \u001B[38;5;28mprint\u001B[39m(address)\n\u001B[0;32m      6\u001B[0m         \u001B[38;5;28mprint\u001B[39m(expected_output)\n",
      "\u001B[1;31mNameError\u001B[0m: name 'hashlib' is not defined"
     ]
    }
   ],
   "source": [
    "for address, expected_output in zip(test_addresses_address, test_addresses_output):\n",
    "    output = countryMatcher.find_country_hash(address, confidence_threshold=100)\n",
    "\n",
    "    if output != hashlib.sha256(expected_output.encode('utf-8')).hexdigest():\n",
    "        print(address)\n",
    "        print(expected_output)\n",
    "        break"
   ],
   "metadata": {
    "collapsed": false,
    "ExecuteTime": {
     "end_time": "2023-11-18T19:17:20.712395100Z",
     "start_time": "2023-11-18T19:17:20.028940Z"
    }
   }
  },
  {
   "cell_type": "code",
   "execution_count": 24,
   "outputs": [
    {
     "data": {
      "text/plain": "'cd8d844d2c3dedc1f6d5c56924a9f743bba1fc43278772da035935446c2db0f5'"
     },
     "execution_count": 24,
     "metadata": {},
     "output_type": "execute_result"
    }
   ],
   "source": [
    "countryMatcher.find_country_hash(\"leithener dorfstraße, reith bei seefeld AT\", confidence_threshold=100)"
   ],
   "metadata": {
    "collapsed": false,
    "ExecuteTime": {
     "end_time": "2023-11-18T19:14:56.298210100Z",
     "start_time": "2023-11-18T19:14:56.119226800Z"
    }
   }
  },
  {
   "cell_type": "code",
   "execution_count": null,
   "outputs": [],
   "source": [],
   "metadata": {
    "collapsed": false
   }
  }
 ],
 "metadata": {
  "kernelspec": {
   "display_name": "Python 3",
   "language": "python",
   "name": "python3"
  },
  "language_info": {
   "codemirror_mode": {
    "name": "ipython",
    "version": 2
   },
   "file_extension": ".py",
   "mimetype": "text/x-python",
   "name": "python",
   "nbconvert_exporter": "python",
   "pygments_lexer": "ipython2",
   "version": "2.7.6"
  }
 },
 "nbformat": 4,
 "nbformat_minor": 0
}
