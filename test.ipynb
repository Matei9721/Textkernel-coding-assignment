{
 "cells": [
  {
   "cell_type": "code",
   "execution_count": 1,
   "metadata": {
    "collapsed": true,
    "ExecuteTime": {
     "end_time": "2023-11-18T17:58:24.369238900Z",
     "start_time": "2023-11-18T17:58:23.679578200Z"
    }
   },
   "outputs": [],
   "source": [
    "from country_matcher.country_matcher import CountryMatcher"
   ]
  },
  {
   "cell_type": "code",
   "execution_count": 2,
   "outputs": [],
   "source": [
    "countryMatcher = CountryMatcher(\"dataset/city_to_country_mapping.json\", \"dataset/city_to_country_mapping.json\")"
   ],
   "metadata": {
    "collapsed": false,
    "ExecuteTime": {
     "end_time": "2023-11-18T17:58:24.462238500Z",
     "start_time": "2023-11-18T17:58:24.372238600Z"
    }
   }
  },
  {
   "cell_type": "code",
   "execution_count": 6,
   "outputs": [
    {
     "name": "stdout",
     "output_type": "stream",
     "text": [
      "['be', 'fr', 'fr']\n"
     ]
    }
   ],
   "source": [
    "print(countryMatcher.find_country([\"stationsstraat 11 9690, kluisbergen\", \"rue du vieux logis chavagnes-les-redoux\", \"Rue De Beaurivage Bois-De-Céné\"]))"
   ],
   "metadata": {
    "collapsed": false,
    "ExecuteTime": {
     "end_time": "2023-11-18T18:02:16.516959900Z",
     "start_time": "2023-11-18T18:02:16.337960700Z"
    }
   }
  },
  {
   "cell_type": "code",
   "execution_count": null,
   "outputs": [],
   "source": [],
   "metadata": {
    "collapsed": false
   }
  }
 ],
 "metadata": {
  "kernelspec": {
   "display_name": "Python 3",
   "language": "python",
   "name": "python3"
  },
  "language_info": {
   "codemirror_mode": {
    "name": "ipython",
    "version": 2
   },
   "file_extension": ".py",
   "mimetype": "text/x-python",
   "name": "python",
   "nbconvert_exporter": "python",
   "pygments_lexer": "ipython2",
   "version": "2.7.6"
  }
 },
 "nbformat": 4,
 "nbformat_minor": 0
}
