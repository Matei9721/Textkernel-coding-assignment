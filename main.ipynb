{
 "cells": [
  {
   "cell_type": "code",
   "execution_count": 1,
   "metadata": {
    "collapsed": true,
    "ExecuteTime": {
     "end_time": "2023-11-18T20:30:46.546479700Z",
     "start_time": "2023-11-18T20:30:46.468631500Z"
    }
   },
   "outputs": [],
   "source": [
    "from country_matcher.country_matcher import CountryMatcher"
   ]
  },
  {
   "cell_type": "code",
   "execution_count": 2,
   "outputs": [],
   "source": [
    "countryMatcher = CountryMatcher(\"dataset/city_to_country_mapping.json\", \"dataset/country_to_code_mapping.json\")"
   ],
   "metadata": {
    "collapsed": false,
    "ExecuteTime": {
     "end_time": "2023-11-18T20:30:46.609845700Z",
     "start_time": "2023-11-18T20:30:46.550476300Z"
    }
   }
  },
  {
   "cell_type": "code",
   "execution_count": 3,
   "outputs": [
    {
     "data": {
      "text/plain": "'d5a79707c0bb522e0de814a42fc80baa78e3bec1267720418c8c4c019d53a1fa'"
     },
     "execution_count": 3,
     "metadata": {},
     "output_type": "execute_result"
    }
   ],
   "source": [
    "countryMatcher.find_country_hash(\"stationsstraat 11 9690, kluisbergen, Belgium\")"
   ],
   "metadata": {
    "collapsed": false,
    "ExecuteTime": {
     "end_time": "2023-11-18T20:30:46.623830900Z",
     "start_time": "2023-11-18T20:30:46.610767600Z"
    }
   }
  },
  {
   "cell_type": "code",
   "execution_count": 4,
   "outputs": [
    {
     "name": "stdout",
     "output_type": "stream",
     "text": [
      "['d5a79707c0bb522e0de814a42fc80baa78e3bec1267720418c8c4c019d53a1fa', '501c26b2571a1f7fd72df8c21593874fc874c97145717470596895d1c22203f7', '501c26b2571a1f7fd72df8c21593874fc874c97145717470596895d1c22203f7']\n"
     ]
    }
   ],
   "source": [
    "print(countryMatcher.find_country_hash([\"stationsstraat 11 9690, kluisbergen\", \"rue du vieux logis chavagnes-les-redoux\", \"Rue De Beaurivage Bois-De-Céné\"]))"
   ],
   "metadata": {
    "collapsed": false,
    "ExecuteTime": {
     "end_time": "2023-11-18T20:30:46.688321100Z",
     "start_time": "2023-11-18T20:30:46.626794900Z"
    }
   }
  },
  {
   "cell_type": "code",
   "execution_count": 5,
   "outputs": [],
   "source": [
    "import json\n",
    "def read_addresses_file(file_path):\n",
    "    with open(file_path, 'r', encoding=\"utf-8\") as file:\n",
    "        addresses = []\n",
    "        for line in file:\n",
    "            # Load each line as a JSON object\n",
    "            json_data = json.loads(line)\n",
    "            address_to_country_dict = json_data[\"address\"], json_data[\"country\"]\n",
    "            addresses.append(address_to_country_dict)\n",
    "\n",
    "    return addresses\n",
    "\n",
    "test_addresses = read_addresses_file(\"tests/data/addresses.jsonl\")\n",
    "test_addresses_input = [address[0] for address in test_addresses]\n",
    "test_addresses_output = [address[1] for address in test_addresses]"
   ],
   "metadata": {
    "collapsed": false,
    "ExecuteTime": {
     "end_time": "2023-11-18T20:30:48.783680900Z",
     "start_time": "2023-11-18T20:30:46.695322200Z"
    }
   }
  },
  {
   "cell_type": "code",
   "execution_count": 8,
   "outputs": [
    {
     "data": {
      "text/plain": "['eb5442705969dc8da5dfac8f9658dc68acdab5bb7635ba7cc551e389416ac34e',\n 'eb5442705969dc8da5dfac8f9658dc68acdab5bb7635ba7cc551e389416ac34e',\n 'eb5442705969dc8da5dfac8f9658dc68acdab5bb7635ba7cc551e389416ac34e',\n 'eb5442705969dc8da5dfac8f9658dc68acdab5bb7635ba7cc551e389416ac34e',\n 'eb5442705969dc8da5dfac8f9658dc68acdab5bb7635ba7cc551e389416ac34e',\n 'eb5442705969dc8da5dfac8f9658dc68acdab5bb7635ba7cc551e389416ac34e',\n 'eb5442705969dc8da5dfac8f9658dc68acdab5bb7635ba7cc551e389416ac34e',\n 'eb5442705969dc8da5dfac8f9658dc68acdab5bb7635ba7cc551e389416ac34e',\n 'eb5442705969dc8da5dfac8f9658dc68acdab5bb7635ba7cc551e389416ac34e',\n 'eb5442705969dc8da5dfac8f9658dc68acdab5bb7635ba7cc551e389416ac34e',\n '501c26b2571a1f7fd72df8c21593874fc874c97145717470596895d1c22203f7',\n '501c26b2571a1f7fd72df8c21593874fc874c97145717470596895d1c22203f7',\n '501c26b2571a1f7fd72df8c21593874fc874c97145717470596895d1c22203f7',\n '501c26b2571a1f7fd72df8c21593874fc874c97145717470596895d1c22203f7',\n '501c26b2571a1f7fd72df8c21593874fc874c97145717470596895d1c22203f7']"
     },
     "execution_count": 8,
     "metadata": {},
     "output_type": "execute_result"
    }
   ],
   "source": [
    "countryMatcher.find_country_hash(test_addresses_input[:10] + test_addresses_input[-5:])"
   ],
   "metadata": {
    "collapsed": false,
    "ExecuteTime": {
     "end_time": "2023-11-18T20:31:09.828886300Z",
     "start_time": "2023-11-18T20:31:09.710328900Z"
    }
   }
  },
  {
   "cell_type": "code",
   "execution_count": null,
   "outputs": [],
   "source": [],
   "metadata": {
    "collapsed": false
   }
  }
 ],
 "metadata": {
  "kernelspec": {
   "display_name": "Python 3",
   "language": "python",
   "name": "python3"
  },
  "language_info": {
   "codemirror_mode": {
    "name": "ipython",
    "version": 2
   },
   "file_extension": ".py",
   "mimetype": "text/x-python",
   "name": "python",
   "nbconvert_exporter": "python",
   "pygments_lexer": "ipython2",
   "version": "2.7.6"
  }
 },
 "nbformat": 4,
 "nbformat_minor": 0
}
