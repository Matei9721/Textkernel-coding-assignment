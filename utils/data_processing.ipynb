{
 "cells": [
  {
   "cell_type": "markdown",
   "source": [
    "## Data Processing\n",
    "\n",
    "This notebook contains the simple code to process the raw data for the city and country mapping to one that is accepted by the country_matcher code. This code is not necessarily re-utilizable as it heavily depends on the original form of the RAW data, but it can be easily modified to transform any other data source into the required data form."
   ],
   "metadata": {
    "collapsed": false
   }
  },
  {
   "cell_type": "markdown",
   "source": [
    "### Process city_to_country mapping"
   ],
   "metadata": {
    "collapsed": false
   }
  },
  {
   "cell_type": "code",
   "execution_count": null,
   "outputs": [],
   "source": [
    "import json"
   ],
   "metadata": {
    "collapsed": false
   }
  },
  {
   "cell_type": "code",
   "execution_count": null,
   "metadata": {
    "collapsed": true
   },
   "outputs": [],
   "source": [
    "def read_jsonl_file(file_path):\n",
    "    city_to_country_mapping = {}\n",
    "    cities = []\n",
    "    with open(file_path, 'r', encoding=\"utf-8\") as file:\n",
    "        for line in file:\n",
    "            # Load each line as a JSON object\n",
    "            json_data = json.loads(line)\n",
    "            city, country = json_data[\"city\"].lower(), json_data[\"country\"]\n",
    "            cities.append(city)\n",
    "            city_to_country_mapping[city] = country\n",
    "\n",
    "    return city_to_country_mapping, cities"
   ]
  },
  {
   "cell_type": "code",
   "execution_count": null,
   "outputs": [],
   "source": [
    "city_to_country_mapping, cities = read_jsonl_file(\"dataset/cities.jsonl\")"
   ],
   "metadata": {
    "collapsed": false
   }
  },
  {
   "cell_type": "code",
   "execution_count": null,
   "outputs": [],
   "source": [
    "# Save the dictionary to a JSON file\n",
    "with open('dataset/city_to_country_mapping.json', 'w', encoding=\"utf-8\") as json_file:\n",
    "    json.dump(city_to_country_mapping, json_file, ensure_ascii=False, indent=4)  # indent is optional for pretty formatting"
   ],
   "metadata": {
    "collapsed": false
   }
  },
  {
   "cell_type": "markdown",
   "source": [
    "### Process country_to_code mapping"
   ],
   "metadata": {
    "collapsed": false
   }
  },
  {
   "cell_type": "code",
   "execution_count": null,
   "outputs": [],
   "source": [
    "# Load JSON data into a Python dictionary\n",
    "with open(\"dataset/countries.json\", 'r', encoding=\"utf-8\") as file:\n",
    "    country_data = json.load(file)\n",
    "\n",
    "    # Create a dictionary with country as key and code as value\n",
    "    country_dict = {country['name'].lower(): country['code'] for country in country_data}\n",
    "\n",
    "# Save the dictionary to a JSON file\n",
    "with open('dataset/country_to_code_mapping.json', 'w', encoding=\"utf-8\") as json_file:\n",
    "    json.dump(country_dict, json_file, ensure_ascii=False, indent=4)  # indent is optional for pretty formatting"
   ],
   "metadata": {
    "collapsed": false
   }
  },
  {
   "cell_type": "markdown",
   "source": [
    "### In the case where we have multiple data sources, we need to concatenate them.\n",
    "\n",
    "There is no code here, mainly a placeholder as I did not use additional data sources"
   ],
   "metadata": {
    "collapsed": false
   }
  },
  {
   "cell_type": "code",
   "execution_count": null,
   "outputs": [],
   "source": [],
   "metadata": {
    "collapsed": false
   }
  }
 ],
 "metadata": {
  "kernelspec": {
   "display_name": "Python 3",
   "language": "python",
   "name": "python3"
  },
  "language_info": {
   "codemirror_mode": {
    "name": "ipython",
    "version": 2
   },
   "file_extension": ".py",
   "mimetype": "text/x-python",
   "name": "python",
   "nbconvert_exporter": "python",
   "pygments_lexer": "ipython2",
   "version": "2.7.6"
  }
 },
 "nbformat": 4,
 "nbformat_minor": 0
}
